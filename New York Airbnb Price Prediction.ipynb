{
 "cells": [
  {
   "cell_type": "markdown",
   "metadata": {},
   "source": [
    "# Author: Shyam Vishnu"
   ]
  },
  {
   "cell_type": "code",
   "execution_count": null,
   "metadata": {},
   "outputs": [],
   "source": []
  },
  {
   "cell_type": "markdown",
   "metadata": {},
   "source": [
    "# Importing Neccessary Packages"
   ]
  },
  {
   "cell_type": "code",
   "execution_count": 148,
   "metadata": {},
   "outputs": [],
   "source": [
    "import pandas as pd\n",
    "import numpy as np\n",
    "import matplotlib.pyplot as plt\n",
    "import seaborn as sns\n",
    "from sklearn import datasets\n",
    "from sklearn.model_selection import cross_val_score\n",
    "from sklearn.metrics import confusion_matrix\n",
    "from sklearn.model_selection import train_test_split\n",
    "from sklearn.linear_model import LogisticRegression\n",
    "from sklearn.linear_model import LinearRegression\n",
    "from imblearn.over_sampling import SMOTE"
   ]
  },
  {
   "cell_type": "markdown",
   "metadata": {},
   "source": [
    "# Create dataset"
   ]
  },
  {
   "cell_type": "code",
   "execution_count": null,
   "metadata": {},
   "outputs": [],
   "source": []
  },
  {
   "cell_type": "markdown",
   "metadata": {},
   "source": [
    "# Data Gathering, Visualization, Data types and formatting"
   ]
  },
  {
   "cell_type": "code",
   "execution_count": 82,
   "metadata": {},
   "outputs": [
    {
     "data": {
      "text/html": [
       "<div>\n",
       "<style scoped>\n",
       "    .dataframe tbody tr th:only-of-type {\n",
       "        vertical-align: middle;\n",
       "    }\n",
       "\n",
       "    .dataframe tbody tr th {\n",
       "        vertical-align: top;\n",
       "    }\n",
       "\n",
       "    .dataframe thead th {\n",
       "        text-align: right;\n",
       "    }\n",
       "</style>\n",
       "<table border=\"1\" class=\"dataframe\">\n",
       "  <thead>\n",
       "    <tr style=\"text-align: right;\">\n",
       "      <th></th>\n",
       "      <th>id</th>\n",
       "      <th>name</th>\n",
       "      <th>host_id</th>\n",
       "      <th>host_name</th>\n",
       "      <th>neighbourhood_group</th>\n",
       "      <th>neighbourhood</th>\n",
       "      <th>latitude</th>\n",
       "      <th>longitude</th>\n",
       "      <th>room_type</th>\n",
       "      <th>price</th>\n",
       "      <th>minimum_nights</th>\n",
       "      <th>number_of_reviews</th>\n",
       "      <th>last_review</th>\n",
       "      <th>reviews_per_month</th>\n",
       "      <th>calculated_host_listings_count</th>\n",
       "      <th>availability_365</th>\n",
       "    </tr>\n",
       "  </thead>\n",
       "  <tbody>\n",
       "    <tr>\n",
       "      <th>0</th>\n",
       "      <td>2539</td>\n",
       "      <td>Clean &amp; quiet apt home by the park</td>\n",
       "      <td>2787</td>\n",
       "      <td>John</td>\n",
       "      <td>Brooklyn</td>\n",
       "      <td>Kensington</td>\n",
       "      <td>40.64749</td>\n",
       "      <td>-73.97237</td>\n",
       "      <td>Private room</td>\n",
       "      <td>149</td>\n",
       "      <td>1</td>\n",
       "      <td>9</td>\n",
       "      <td>2018-10-19</td>\n",
       "      <td>0.21</td>\n",
       "      <td>6</td>\n",
       "      <td>365</td>\n",
       "    </tr>\n",
       "    <tr>\n",
       "      <th>1</th>\n",
       "      <td>2595</td>\n",
       "      <td>Skylit Midtown Castle</td>\n",
       "      <td>2845</td>\n",
       "      <td>Jennifer</td>\n",
       "      <td>Manhattan</td>\n",
       "      <td>Midtown</td>\n",
       "      <td>40.75362</td>\n",
       "      <td>-73.98377</td>\n",
       "      <td>Entire home/apt</td>\n",
       "      <td>225</td>\n",
       "      <td>1</td>\n",
       "      <td>45</td>\n",
       "      <td>2019-05-21</td>\n",
       "      <td>0.38</td>\n",
       "      <td>2</td>\n",
       "      <td>355</td>\n",
       "    </tr>\n",
       "    <tr>\n",
       "      <th>2</th>\n",
       "      <td>3647</td>\n",
       "      <td>THE VILLAGE OF HARLEM....NEW YORK !</td>\n",
       "      <td>4632</td>\n",
       "      <td>Elisabeth</td>\n",
       "      <td>Manhattan</td>\n",
       "      <td>Harlem</td>\n",
       "      <td>40.80902</td>\n",
       "      <td>-73.94190</td>\n",
       "      <td>Private room</td>\n",
       "      <td>150</td>\n",
       "      <td>3</td>\n",
       "      <td>0</td>\n",
       "      <td>NaN</td>\n",
       "      <td>NaN</td>\n",
       "      <td>1</td>\n",
       "      <td>365</td>\n",
       "    </tr>\n",
       "    <tr>\n",
       "      <th>3</th>\n",
       "      <td>3831</td>\n",
       "      <td>Cozy Entire Floor of Brownstone</td>\n",
       "      <td>4869</td>\n",
       "      <td>LisaRoxanne</td>\n",
       "      <td>Brooklyn</td>\n",
       "      <td>Clinton Hill</td>\n",
       "      <td>40.68514</td>\n",
       "      <td>-73.95976</td>\n",
       "      <td>Entire home/apt</td>\n",
       "      <td>89</td>\n",
       "      <td>1</td>\n",
       "      <td>270</td>\n",
       "      <td>2019-07-05</td>\n",
       "      <td>4.64</td>\n",
       "      <td>1</td>\n",
       "      <td>194</td>\n",
       "    </tr>\n",
       "    <tr>\n",
       "      <th>4</th>\n",
       "      <td>5022</td>\n",
       "      <td>Entire Apt: Spacious Studio/Loft by central park</td>\n",
       "      <td>7192</td>\n",
       "      <td>Laura</td>\n",
       "      <td>Manhattan</td>\n",
       "      <td>East Harlem</td>\n",
       "      <td>40.79851</td>\n",
       "      <td>-73.94399</td>\n",
       "      <td>Entire home/apt</td>\n",
       "      <td>80</td>\n",
       "      <td>10</td>\n",
       "      <td>9</td>\n",
       "      <td>2018-11-19</td>\n",
       "      <td>0.10</td>\n",
       "      <td>1</td>\n",
       "      <td>0</td>\n",
       "    </tr>\n",
       "  </tbody>\n",
       "</table>\n",
       "</div>"
      ],
      "text/plain": [
       "     id                                              name  host_id  \\\n",
       "0  2539                Clean & quiet apt home by the park     2787   \n",
       "1  2595                             Skylit Midtown Castle     2845   \n",
       "2  3647               THE VILLAGE OF HARLEM....NEW YORK !     4632   \n",
       "3  3831                   Cozy Entire Floor of Brownstone     4869   \n",
       "4  5022  Entire Apt: Spacious Studio/Loft by central park     7192   \n",
       "\n",
       "     host_name neighbourhood_group neighbourhood  latitude  longitude  \\\n",
       "0         John            Brooklyn    Kensington  40.64749  -73.97237   \n",
       "1     Jennifer           Manhattan       Midtown  40.75362  -73.98377   \n",
       "2    Elisabeth           Manhattan        Harlem  40.80902  -73.94190   \n",
       "3  LisaRoxanne            Brooklyn  Clinton Hill  40.68514  -73.95976   \n",
       "4        Laura           Manhattan   East Harlem  40.79851  -73.94399   \n",
       "\n",
       "         room_type  price  minimum_nights  number_of_reviews last_review  \\\n",
       "0     Private room    149               1                  9  2018-10-19   \n",
       "1  Entire home/apt    225               1                 45  2019-05-21   \n",
       "2     Private room    150               3                  0         NaN   \n",
       "3  Entire home/apt     89               1                270  2019-07-05   \n",
       "4  Entire home/apt     80              10                  9  2018-11-19   \n",
       "\n",
       "   reviews_per_month  calculated_host_listings_count  availability_365  \n",
       "0               0.21                               6               365  \n",
       "1               0.38                               2               355  \n",
       "2                NaN                               1               365  \n",
       "3               4.64                               1               194  \n",
       "4               0.10                               1                 0  "
      ]
     },
     "execution_count": 82,
     "metadata": {},
     "output_type": "execute_result"
    }
   ],
   "source": [
    "# Read data\n",
    "df = pd.read_csv('eda.csv')\n",
    "df.head()"
   ]
  },
  {
   "cell_type": "code",
   "execution_count": 83,
   "metadata": {},
   "outputs": [
    {
     "name": "stdout",
     "output_type": "stream",
     "text": [
      "(48895, 16)\n",
      "Index(['id', 'name', 'host_id', 'host_name', 'neighbourhood_group',\n",
      "       'neighbourhood', 'latitude', 'longitude', 'room_type', 'price',\n",
      "       'minimum_nights', 'number_of_reviews', 'last_review',\n",
      "       'reviews_per_month', 'calculated_host_listings_count',\n",
      "       'availability_365'],\n",
      "      dtype='object')\n",
      "<class 'pandas.core.frame.DataFrame'>\n",
      "RangeIndex: 48895 entries, 0 to 48894\n",
      "Data columns (total 16 columns):\n",
      " #   Column                          Non-Null Count  Dtype  \n",
      "---  ------                          --------------  -----  \n",
      " 0   id                              48895 non-null  int64  \n",
      " 1   name                            48879 non-null  object \n",
      " 2   host_id                         48895 non-null  int64  \n",
      " 3   host_name                       48874 non-null  object \n",
      " 4   neighbourhood_group             48895 non-null  object \n",
      " 5   neighbourhood                   48895 non-null  object \n",
      " 6   latitude                        48895 non-null  float64\n",
      " 7   longitude                       48895 non-null  float64\n",
      " 8   room_type                       48895 non-null  object \n",
      " 9   price                           48895 non-null  int64  \n",
      " 10  minimum_nights                  48895 non-null  int64  \n",
      " 11  number_of_reviews               48895 non-null  int64  \n",
      " 12  last_review                     38843 non-null  object \n",
      " 13  reviews_per_month               38843 non-null  float64\n",
      " 14  calculated_host_listings_count  48895 non-null  int64  \n",
      " 15  availability_365                48895 non-null  int64  \n",
      "dtypes: float64(3), int64(7), object(6)\n",
      "memory usage: 6.0+ MB\n",
      "None\n"
     ]
    }
   ],
   "source": [
    "# Shape of Data frame\n",
    "print(df.shape)\n",
    "\n",
    "# Columns in data frame\n",
    "print(df.columns)\n",
    "\n",
    "# General information about data frame\n",
    "print(df.info())"
   ]
  },
  {
   "cell_type": "code",
   "execution_count": 84,
   "metadata": {},
   "outputs": [
    {
     "data": {
      "text/plain": [
       "id                                  int64\n",
       "name                               object\n",
       "host_id                             int64\n",
       "host_name                          object\n",
       "neighbourhood_group                object\n",
       "neighbourhood                      object\n",
       "latitude                          float64\n",
       "longitude                         float64\n",
       "room_type                          object\n",
       "price                               int64\n",
       "minimum_nights                      int64\n",
       "number_of_reviews                   int64\n",
       "last_review                        object\n",
       "reviews_per_month                 float64\n",
       "calculated_host_listings_count      int64\n",
       "availability_365                    int64\n",
       "dtype: object"
      ]
     },
     "execution_count": 84,
     "metadata": {},
     "output_type": "execute_result"
    }
   ],
   "source": [
    "#Data types\n",
    "df.dtypes"
   ]
  },
  {
   "cell_type": "code",
   "execution_count": 85,
   "metadata": {},
   "outputs": [
    {
     "data": {
      "text/html": [
       "<div>\n",
       "<style scoped>\n",
       "    .dataframe tbody tr th:only-of-type {\n",
       "        vertical-align: middle;\n",
       "    }\n",
       "\n",
       "    .dataframe tbody tr th {\n",
       "        vertical-align: top;\n",
       "    }\n",
       "\n",
       "    .dataframe thead th {\n",
       "        text-align: right;\n",
       "    }\n",
       "</style>\n",
       "<table border=\"1\" class=\"dataframe\">\n",
       "  <thead>\n",
       "    <tr style=\"text-align: right;\">\n",
       "      <th></th>\n",
       "      <th>id</th>\n",
       "      <th>host_id</th>\n",
       "      <th>latitude</th>\n",
       "      <th>longitude</th>\n",
       "      <th>price</th>\n",
       "      <th>minimum_nights</th>\n",
       "      <th>number_of_reviews</th>\n",
       "      <th>reviews_per_month</th>\n",
       "      <th>calculated_host_listings_count</th>\n",
       "      <th>availability_365</th>\n",
       "    </tr>\n",
       "  </thead>\n",
       "  <tbody>\n",
       "    <tr>\n",
       "      <th>count</th>\n",
       "      <td>4.889500e+04</td>\n",
       "      <td>4.889500e+04</td>\n",
       "      <td>48895.000000</td>\n",
       "      <td>48895.000000</td>\n",
       "      <td>48895.000000</td>\n",
       "      <td>48895.000000</td>\n",
       "      <td>48895.000000</td>\n",
       "      <td>38843.000000</td>\n",
       "      <td>48895.000000</td>\n",
       "      <td>48895.000000</td>\n",
       "    </tr>\n",
       "    <tr>\n",
       "      <th>mean</th>\n",
       "      <td>1.901714e+07</td>\n",
       "      <td>6.762001e+07</td>\n",
       "      <td>40.728949</td>\n",
       "      <td>-73.952170</td>\n",
       "      <td>152.720687</td>\n",
       "      <td>7.029962</td>\n",
       "      <td>23.274466</td>\n",
       "      <td>1.373221</td>\n",
       "      <td>7.143982</td>\n",
       "      <td>112.781327</td>\n",
       "    </tr>\n",
       "    <tr>\n",
       "      <th>std</th>\n",
       "      <td>1.098311e+07</td>\n",
       "      <td>7.861097e+07</td>\n",
       "      <td>0.054530</td>\n",
       "      <td>0.046157</td>\n",
       "      <td>240.154170</td>\n",
       "      <td>20.510550</td>\n",
       "      <td>44.550582</td>\n",
       "      <td>1.680442</td>\n",
       "      <td>32.952519</td>\n",
       "      <td>131.622289</td>\n",
       "    </tr>\n",
       "    <tr>\n",
       "      <th>min</th>\n",
       "      <td>2.539000e+03</td>\n",
       "      <td>2.438000e+03</td>\n",
       "      <td>40.499790</td>\n",
       "      <td>-74.244420</td>\n",
       "      <td>0.000000</td>\n",
       "      <td>1.000000</td>\n",
       "      <td>0.000000</td>\n",
       "      <td>0.010000</td>\n",
       "      <td>1.000000</td>\n",
       "      <td>0.000000</td>\n",
       "    </tr>\n",
       "    <tr>\n",
       "      <th>25%</th>\n",
       "      <td>9.471945e+06</td>\n",
       "      <td>7.822033e+06</td>\n",
       "      <td>40.690100</td>\n",
       "      <td>-73.983070</td>\n",
       "      <td>69.000000</td>\n",
       "      <td>1.000000</td>\n",
       "      <td>1.000000</td>\n",
       "      <td>0.190000</td>\n",
       "      <td>1.000000</td>\n",
       "      <td>0.000000</td>\n",
       "    </tr>\n",
       "    <tr>\n",
       "      <th>50%</th>\n",
       "      <td>1.967728e+07</td>\n",
       "      <td>3.079382e+07</td>\n",
       "      <td>40.723070</td>\n",
       "      <td>-73.955680</td>\n",
       "      <td>106.000000</td>\n",
       "      <td>3.000000</td>\n",
       "      <td>5.000000</td>\n",
       "      <td>0.720000</td>\n",
       "      <td>1.000000</td>\n",
       "      <td>45.000000</td>\n",
       "    </tr>\n",
       "    <tr>\n",
       "      <th>75%</th>\n",
       "      <td>2.915218e+07</td>\n",
       "      <td>1.074344e+08</td>\n",
       "      <td>40.763115</td>\n",
       "      <td>-73.936275</td>\n",
       "      <td>175.000000</td>\n",
       "      <td>5.000000</td>\n",
       "      <td>24.000000</td>\n",
       "      <td>2.020000</td>\n",
       "      <td>2.000000</td>\n",
       "      <td>227.000000</td>\n",
       "    </tr>\n",
       "    <tr>\n",
       "      <th>max</th>\n",
       "      <td>3.648724e+07</td>\n",
       "      <td>2.743213e+08</td>\n",
       "      <td>40.913060</td>\n",
       "      <td>-73.712990</td>\n",
       "      <td>10000.000000</td>\n",
       "      <td>1250.000000</td>\n",
       "      <td>629.000000</td>\n",
       "      <td>58.500000</td>\n",
       "      <td>327.000000</td>\n",
       "      <td>365.000000</td>\n",
       "    </tr>\n",
       "  </tbody>\n",
       "</table>\n",
       "</div>"
      ],
      "text/plain": [
       "                 id       host_id      latitude     longitude         price  \\\n",
       "count  4.889500e+04  4.889500e+04  48895.000000  48895.000000  48895.000000   \n",
       "mean   1.901714e+07  6.762001e+07     40.728949    -73.952170    152.720687   \n",
       "std    1.098311e+07  7.861097e+07      0.054530      0.046157    240.154170   \n",
       "min    2.539000e+03  2.438000e+03     40.499790    -74.244420      0.000000   \n",
       "25%    9.471945e+06  7.822033e+06     40.690100    -73.983070     69.000000   \n",
       "50%    1.967728e+07  3.079382e+07     40.723070    -73.955680    106.000000   \n",
       "75%    2.915218e+07  1.074344e+08     40.763115    -73.936275    175.000000   \n",
       "max    3.648724e+07  2.743213e+08     40.913060    -73.712990  10000.000000   \n",
       "\n",
       "       minimum_nights  number_of_reviews  reviews_per_month  \\\n",
       "count    48895.000000       48895.000000       38843.000000   \n",
       "mean         7.029962          23.274466           1.373221   \n",
       "std         20.510550          44.550582           1.680442   \n",
       "min          1.000000           0.000000           0.010000   \n",
       "25%          1.000000           1.000000           0.190000   \n",
       "50%          3.000000           5.000000           0.720000   \n",
       "75%          5.000000          24.000000           2.020000   \n",
       "max       1250.000000         629.000000          58.500000   \n",
       "\n",
       "       calculated_host_listings_count  availability_365  \n",
       "count                    48895.000000      48895.000000  \n",
       "mean                         7.143982        112.781327  \n",
       "std                         32.952519        131.622289  \n",
       "min                          1.000000          0.000000  \n",
       "25%                          1.000000          0.000000  \n",
       "50%                          1.000000         45.000000  \n",
       "75%                          2.000000        227.000000  \n",
       "max                        327.000000        365.000000  "
      ]
     },
     "execution_count": 85,
     "metadata": {},
     "output_type": "execute_result"
    }
   ],
   "source": [
    "#Describe data\n",
    "df.describe()"
   ]
  },
  {
   "cell_type": "code",
   "execution_count": 86,
   "metadata": {},
   "outputs": [
    {
     "data": {
      "text/html": [
       "<div>\n",
       "<style scoped>\n",
       "    .dataframe tbody tr th:only-of-type {\n",
       "        vertical-align: middle;\n",
       "    }\n",
       "\n",
       "    .dataframe tbody tr th {\n",
       "        vertical-align: top;\n",
       "    }\n",
       "\n",
       "    .dataframe thead th {\n",
       "        text-align: right;\n",
       "    }\n",
       "</style>\n",
       "<table border=\"1\" class=\"dataframe\">\n",
       "  <thead>\n",
       "    <tr style=\"text-align: right;\">\n",
       "      <th></th>\n",
       "      <th>name</th>\n",
       "      <th>host_name</th>\n",
       "      <th>neighbourhood_group</th>\n",
       "      <th>neighbourhood</th>\n",
       "      <th>room_type</th>\n",
       "      <th>last_review</th>\n",
       "    </tr>\n",
       "  </thead>\n",
       "  <tbody>\n",
       "    <tr>\n",
       "      <th>count</th>\n",
       "      <td>48879</td>\n",
       "      <td>48874</td>\n",
       "      <td>48895</td>\n",
       "      <td>48895</td>\n",
       "      <td>48895</td>\n",
       "      <td>38843</td>\n",
       "    </tr>\n",
       "    <tr>\n",
       "      <th>unique</th>\n",
       "      <td>47905</td>\n",
       "      <td>11452</td>\n",
       "      <td>5</td>\n",
       "      <td>221</td>\n",
       "      <td>3</td>\n",
       "      <td>1764</td>\n",
       "    </tr>\n",
       "    <tr>\n",
       "      <th>top</th>\n",
       "      <td>Hillside Hotel</td>\n",
       "      <td>Michael</td>\n",
       "      <td>Manhattan</td>\n",
       "      <td>Williamsburg</td>\n",
       "      <td>Entire home/apt</td>\n",
       "      <td>2019-06-23</td>\n",
       "    </tr>\n",
       "    <tr>\n",
       "      <th>freq</th>\n",
       "      <td>18</td>\n",
       "      <td>417</td>\n",
       "      <td>21661</td>\n",
       "      <td>3920</td>\n",
       "      <td>25409</td>\n",
       "      <td>1413</td>\n",
       "    </tr>\n",
       "  </tbody>\n",
       "</table>\n",
       "</div>"
      ],
      "text/plain": [
       "                  name host_name neighbourhood_group neighbourhood  \\\n",
       "count            48879     48874               48895         48895   \n",
       "unique           47905     11452                   5           221   \n",
       "top     Hillside Hotel   Michael           Manhattan  Williamsburg   \n",
       "freq                18       417               21661          3920   \n",
       "\n",
       "              room_type last_review  \n",
       "count             48895       38843  \n",
       "unique                3        1764  \n",
       "top     Entire home/apt  2019-06-23  \n",
       "freq              25409        1413  "
      ]
     },
     "execution_count": 86,
     "metadata": {},
     "output_type": "execute_result"
    }
   ],
   "source": [
    "#Describe categorical data\n",
    "df.describe(include=['object', 'bool'])"
   ]
  },
  {
   "cell_type": "code",
   "execution_count": 87,
   "metadata": {},
   "outputs": [],
   "source": [
    "#Duplicates\n",
    "\n"
   ]
  },
  {
   "cell_type": "code",
   "execution_count": 88,
   "metadata": {},
   "outputs": [
    {
     "data": {
      "text/plain": [
       "Hillside Hotel                                        0.000368\n",
       "Home away from home                                   0.000348\n",
       "New york Multi-unit building                          0.000327\n",
       "Brooklyn Apartment                                    0.000246\n",
       "Private Room                                          0.000225\n",
       "                                                        ...   \n",
       "Spacious rm 15 mins from downtown!                    0.000020\n",
       "❤️ Beautiful/Spacious/Convenient BK Apartment!        0.000020\n",
       "HUGE STUDIO-Cozy,Centrally Located!                   0.000020\n",
       "Romantic space at the Upper East side of Manhattan    0.000020\n",
       "Brooklyn Room - 20 min from Manhattan                 0.000020\n",
       "Name: name, Length: 47905, dtype: float64"
      ]
     },
     "execution_count": 88,
     "metadata": {},
     "output_type": "execute_result"
    }
   ],
   "source": [
    "#Value counts\n",
    "#For categorical (type object) and boolean (type bool) features we can use the value_counts method\n",
    "df['name'].value_counts()\n",
    "\n",
    "# you can see other columns as well\n",
    "df['id'].value_counts()\n",
    "\n",
    "# To calculate fractions\n",
    "df['name'].value_counts(normalize=True)"
   ]
  },
  {
   "cell_type": "code",
   "execution_count": 89,
   "metadata": {},
   "outputs": [
    {
     "data": {
      "text/html": [
       "<div>\n",
       "<style scoped>\n",
       "    .dataframe tbody tr th:only-of-type {\n",
       "        vertical-align: middle;\n",
       "    }\n",
       "\n",
       "    .dataframe tbody tr th {\n",
       "        vertical-align: top;\n",
       "    }\n",
       "\n",
       "    .dataframe thead th {\n",
       "        text-align: right;\n",
       "    }\n",
       "</style>\n",
       "<table border=\"1\" class=\"dataframe\">\n",
       "  <thead>\n",
       "    <tr style=\"text-align: right;\">\n",
       "      <th>room_type</th>\n",
       "      <th>Entire home/apt</th>\n",
       "      <th>Private room</th>\n",
       "      <th>Shared room</th>\n",
       "    </tr>\n",
       "    <tr>\n",
       "      <th>neighbourhood_group</th>\n",
       "      <th></th>\n",
       "      <th></th>\n",
       "      <th></th>\n",
       "    </tr>\n",
       "  </thead>\n",
       "  <tbody>\n",
       "    <tr>\n",
       "      <th>Bronx</th>\n",
       "      <td>379</td>\n",
       "      <td>652</td>\n",
       "      <td>60</td>\n",
       "    </tr>\n",
       "    <tr>\n",
       "      <th>Brooklyn</th>\n",
       "      <td>9559</td>\n",
       "      <td>10132</td>\n",
       "      <td>413</td>\n",
       "    </tr>\n",
       "    <tr>\n",
       "      <th>Manhattan</th>\n",
       "      <td>13199</td>\n",
       "      <td>7982</td>\n",
       "      <td>480</td>\n",
       "    </tr>\n",
       "    <tr>\n",
       "      <th>Queens</th>\n",
       "      <td>2096</td>\n",
       "      <td>3372</td>\n",
       "      <td>198</td>\n",
       "    </tr>\n",
       "    <tr>\n",
       "      <th>Staten Island</th>\n",
       "      <td>176</td>\n",
       "      <td>188</td>\n",
       "      <td>9</td>\n",
       "    </tr>\n",
       "  </tbody>\n",
       "</table>\n",
       "</div>"
      ],
      "text/plain": [
       "room_type            Entire home/apt  Private room  Shared room\n",
       "neighbourhood_group                                            \n",
       "Bronx                            379           652           60\n",
       "Brooklyn                        9559         10132          413\n",
       "Manhattan                      13199          7982          480\n",
       "Queens                          2096          3372          198\n",
       "Staten Island                    176           188            9"
      ]
     },
     "execution_count": 89,
     "metadata": {},
     "output_type": "execute_result"
    }
   ],
   "source": [
    "# Summary Tables\n",
    "# Getting a cross tab of items\n",
    "pd.crosstab(df['neighbourhood_group'], df['room_type'])"
   ]
  },
  {
   "cell_type": "code",
   "execution_count": 90,
   "metadata": {},
   "outputs": [
    {
     "data": {
      "text/html": [
       "<div>\n",
       "<style scoped>\n",
       "    .dataframe tbody tr th:only-of-type {\n",
       "        vertical-align: middle;\n",
       "    }\n",
       "\n",
       "    .dataframe tbody tr th {\n",
       "        vertical-align: top;\n",
       "    }\n",
       "\n",
       "    .dataframe thead th {\n",
       "        text-align: right;\n",
       "    }\n",
       "</style>\n",
       "<table border=\"1\" class=\"dataframe\">\n",
       "  <thead>\n",
       "    <tr style=\"text-align: right;\">\n",
       "      <th>room_type</th>\n",
       "      <th>Entire home/apt</th>\n",
       "      <th>Private room</th>\n",
       "      <th>Shared room</th>\n",
       "    </tr>\n",
       "    <tr>\n",
       "      <th>neighbourhood_group</th>\n",
       "      <th></th>\n",
       "      <th></th>\n",
       "      <th></th>\n",
       "    </tr>\n",
       "  </thead>\n",
       "  <tbody>\n",
       "    <tr>\n",
       "      <th>Bronx</th>\n",
       "      <td>0.007751</td>\n",
       "      <td>0.013335</td>\n",
       "      <td>0.001227</td>\n",
       "    </tr>\n",
       "    <tr>\n",
       "      <th>Brooklyn</th>\n",
       "      <td>0.195501</td>\n",
       "      <td>0.207220</td>\n",
       "      <td>0.008447</td>\n",
       "    </tr>\n",
       "    <tr>\n",
       "      <th>Manhattan</th>\n",
       "      <td>0.269946</td>\n",
       "      <td>0.163248</td>\n",
       "      <td>0.009817</td>\n",
       "    </tr>\n",
       "    <tr>\n",
       "      <th>Queens</th>\n",
       "      <td>0.042867</td>\n",
       "      <td>0.068964</td>\n",
       "      <td>0.004049</td>\n",
       "    </tr>\n",
       "    <tr>\n",
       "      <th>Staten Island</th>\n",
       "      <td>0.003600</td>\n",
       "      <td>0.003845</td>\n",
       "      <td>0.000184</td>\n",
       "    </tr>\n",
       "  </tbody>\n",
       "</table>\n",
       "</div>"
      ],
      "text/plain": [
       "room_type            Entire home/apt  Private room  Shared room\n",
       "neighbourhood_group                                            \n",
       "Bronx                       0.007751      0.013335     0.001227\n",
       "Brooklyn                    0.195501      0.207220     0.008447\n",
       "Manhattan                   0.269946      0.163248     0.009817\n",
       "Queens                      0.042867      0.068964     0.004049\n",
       "Staten Island               0.003600      0.003845     0.000184"
      ]
     },
     "execution_count": 90,
     "metadata": {},
     "output_type": "execute_result"
    }
   ],
   "source": [
    "# Getting a cross tab of items in percentage share\n",
    "pd.crosstab(df['neighbourhood_group'], df['room_type'], normalize = True)"
   ]
  },
  {
   "cell_type": "code",
   "execution_count": 91,
   "metadata": {},
   "outputs": [
    {
     "data": {
      "image/png": "[encoded data removed]",
      "text/plain": [
       "<Figure size 432x288 with 1 Axes>"
      ]
     },
     "metadata": {
      "image/png": {
       "height": 261,
       "width": 401
      },
      "needs_background": "light"
     },
     "output_type": "display_data"
    }
   ],
   "source": [
    "#Visualize data spread\n",
    "# Graphics in retina format are more sharp and legible\n",
    "%config InlineBackend.figure_format = 'retina'\n",
    "\n",
    "sns.countplot(x='room_type', hue='neighbourhood_group', data=df);"
   ]
  },
  {
   "cell_type": "markdown",
   "metadata": {},
   "source": [
    "# Create new variable if neccessary"
   ]
  },
  {
   "cell_type": "markdown",
   "metadata": {},
   "source": [
    "# Drop variables that are not useful for prediction"
   ]
  },
  {
   "cell_type": "code",
   "execution_count": 92,
   "metadata": {},
   "outputs": [],
   "source": [
    "df = df.drop(['name','host_name','host_id','id','last_review','reviews_per_month','neighbourhood' ,'latitude','longitude'], axis =1 )"
   ]
  },
  {
   "cell_type": "markdown",
   "metadata": {},
   "source": [
    "# Converting remaining useful categorical variables to dummy variables"
   ]
  },
  {
   "cell_type": "code",
   "execution_count": 93,
   "metadata": {},
   "outputs": [
    {
     "data": {
      "text/html": [
       "<div>\n",
       "<style scoped>\n",
       "    .dataframe tbody tr th:only-of-type {\n",
       "        vertical-align: middle;\n",
       "    }\n",
       "\n",
       "    .dataframe tbody tr th {\n",
       "        vertical-align: top;\n",
       "    }\n",
       "\n",
       "    .dataframe thead th {\n",
       "        text-align: right;\n",
       "    }\n",
       "</style>\n",
       "<table border=\"1\" class=\"dataframe\">\n",
       "  <thead>\n",
       "    <tr style=\"text-align: right;\">\n",
       "      <th></th>\n",
       "      <th>price</th>\n",
       "      <th>minimum_nights</th>\n",
       "      <th>number_of_reviews</th>\n",
       "      <th>calculated_host_listings_count</th>\n",
       "      <th>availability_365</th>\n",
       "      <th>neighbourhood_group_Brooklyn</th>\n",
       "      <th>neighbourhood_group_Manhattan</th>\n",
       "      <th>neighbourhood_group_Queens</th>\n",
       "      <th>neighbourhood_group_Staten Island</th>\n",
       "      <th>room_type_Private room</th>\n",
       "      <th>room_type_Shared room</th>\n",
       "    </tr>\n",
       "  </thead>\n",
       "  <tbody>\n",
       "    <tr>\n",
       "      <th>0</th>\n",
       "      <td>149</td>\n",
       "      <td>1</td>\n",
       "      <td>9</td>\n",
       "      <td>6</td>\n",
       "      <td>365</td>\n",
       "      <td>1</td>\n",
       "      <td>0</td>\n",
       "      <td>0</td>\n",
       "      <td>0</td>\n",
       "      <td>1</td>\n",
       "      <td>0</td>\n",
       "    </tr>\n",
       "    <tr>\n",
       "      <th>1</th>\n",
       "      <td>225</td>\n",
       "      <td>1</td>\n",
       "      <td>45</td>\n",
       "      <td>2</td>\n",
       "      <td>355</td>\n",
       "      <td>0</td>\n",
       "      <td>1</td>\n",
       "      <td>0</td>\n",
       "      <td>0</td>\n",
       "      <td>0</td>\n",
       "      <td>0</td>\n",
       "    </tr>\n",
       "    <tr>\n",
       "      <th>2</th>\n",
       "      <td>150</td>\n",
       "      <td>3</td>\n",
       "      <td>0</td>\n",
       "      <td>1</td>\n",
       "      <td>365</td>\n",
       "      <td>0</td>\n",
       "      <td>1</td>\n",
       "      <td>0</td>\n",
       "      <td>0</td>\n",
       "      <td>1</td>\n",
       "      <td>0</td>\n",
       "    </tr>\n",
       "    <tr>\n",
       "      <th>3</th>\n",
       "      <td>89</td>\n",
       "      <td>1</td>\n",
       "      <td>270</td>\n",
       "      <td>1</td>\n",
       "      <td>194</td>\n",
       "      <td>1</td>\n",
       "      <td>0</td>\n",
       "      <td>0</td>\n",
       "      <td>0</td>\n",
       "      <td>0</td>\n",
       "      <td>0</td>\n",
       "    </tr>\n",
       "    <tr>\n",
       "      <th>4</th>\n",
       "      <td>80</td>\n",
       "      <td>10</td>\n",
       "      <td>9</td>\n",
       "      <td>1</td>\n",
       "      <td>0</td>\n",
       "      <td>0</td>\n",
       "      <td>1</td>\n",
       "      <td>0</td>\n",
       "      <td>0</td>\n",
       "      <td>0</td>\n",
       "      <td>0</td>\n",
       "    </tr>\n",
       "    <tr>\n",
       "      <th>...</th>\n",
       "      <td>...</td>\n",
       "      <td>...</td>\n",
       "      <td>...</td>\n",
       "      <td>...</td>\n",
       "      <td>...</td>\n",
       "      <td>...</td>\n",
       "      <td>...</td>\n",
       "      <td>...</td>\n",
       "      <td>...</td>\n",
       "      <td>...</td>\n",
       "      <td>...</td>\n",
       "    </tr>\n",
       "    <tr>\n",
       "      <th>48890</th>\n",
       "      <td>70</td>\n",
       "      <td>2</td>\n",
       "      <td>0</td>\n",
       "      <td>2</td>\n",
       "      <td>9</td>\n",
       "      <td>1</td>\n",
       "      <td>0</td>\n",
       "      <td>0</td>\n",
       "      <td>0</td>\n",
       "      <td>1</td>\n",
       "      <td>0</td>\n",
       "    </tr>\n",
       "    <tr>\n",
       "      <th>48891</th>\n",
       "      <td>40</td>\n",
       "      <td>4</td>\n",
       "      <td>0</td>\n",
       "      <td>2</td>\n",
       "      <td>36</td>\n",
       "      <td>1</td>\n",
       "      <td>0</td>\n",
       "      <td>0</td>\n",
       "      <td>0</td>\n",
       "      <td>1</td>\n",
       "      <td>0</td>\n",
       "    </tr>\n",
       "    <tr>\n",
       "      <th>48892</th>\n",
       "      <td>115</td>\n",
       "      <td>10</td>\n",
       "      <td>0</td>\n",
       "      <td>1</td>\n",
       "      <td>27</td>\n",
       "      <td>0</td>\n",
       "      <td>1</td>\n",
       "      <td>0</td>\n",
       "      <td>0</td>\n",
       "      <td>0</td>\n",
       "      <td>0</td>\n",
       "    </tr>\n",
       "    <tr>\n",
       "      <th>48893</th>\n",
       "      <td>55</td>\n",
       "      <td>1</td>\n",
       "      <td>0</td>\n",
       "      <td>6</td>\n",
       "      <td>2</td>\n",
       "      <td>0</td>\n",
       "      <td>1</td>\n",
       "      <td>0</td>\n",
       "      <td>0</td>\n",
       "      <td>0</td>\n",
       "      <td>1</td>\n",
       "    </tr>\n",
       "    <tr>\n",
       "      <th>48894</th>\n",
       "      <td>90</td>\n",
       "      <td>7</td>\n",
       "      <td>0</td>\n",
       "      <td>1</td>\n",
       "      <td>23</td>\n",
       "      <td>0</td>\n",
       "      <td>1</td>\n",
       "      <td>0</td>\n",
       "      <td>0</td>\n",
       "      <td>1</td>\n",
       "      <td>0</td>\n",
       "    </tr>\n",
       "  </tbody>\n",
       "</table>\n",
       "<p>48895 rows × 11 columns</p>\n",
       "</div>"
      ],
      "text/plain": [
       "       price  minimum_nights  number_of_reviews  \\\n",
       "0        149               1                  9   \n",
       "1        225               1                 45   \n",
       "2        150               3                  0   \n",
       "3         89               1                270   \n",
       "4         80              10                  9   \n",
       "...      ...             ...                ...   \n",
       "48890     70               2                  0   \n",
       "48891     40               4                  0   \n",
       "48892    115              10                  0   \n",
       "48893     55               1                  0   \n",
       "48894     90               7                  0   \n",
       "\n",
       "       calculated_host_listings_count  availability_365  \\\n",
       "0                                   6               365   \n",
       "1                                   2               355   \n",
       "2                                   1               365   \n",
       "3                                   1               194   \n",
       "4                                   1                 0   \n",
       "...                               ...               ...   \n",
       "48890                               2                 9   \n",
       "48891                               2                36   \n",
       "48892                               1                27   \n",
       "48893                               6                 2   \n",
       "48894                               1                23   \n",
       "\n",
       "       neighbourhood_group_Brooklyn  neighbourhood_group_Manhattan  \\\n",
       "0                                 1                              0   \n",
       "1                                 0                              1   \n",
       "2                                 0                              1   \n",
       "3                                 1                              0   \n",
       "4                                 0                              1   \n",
       "...                             ...                            ...   \n",
       "48890                             1                              0   \n",
       "48891                             1                              0   \n",
       "48892                             0                              1   \n",
       "48893                             0                              1   \n",
       "48894                             0                              1   \n",
       "\n",
       "       neighbourhood_group_Queens  neighbourhood_group_Staten Island  \\\n",
       "0                               0                                  0   \n",
       "1                               0                                  0   \n",
       "2                               0                                  0   \n",
       "3                               0                                  0   \n",
       "4                               0                                  0   \n",
       "...                           ...                                ...   \n",
       "48890                           0                                  0   \n",
       "48891                           0                                  0   \n",
       "48892                           0                                  0   \n",
       "48893                           0                                  0   \n",
       "48894                           0                                  0   \n",
       "\n",
       "       room_type_Private room  room_type_Shared room  \n",
       "0                           1                      0  \n",
       "1                           0                      0  \n",
       "2                           1                      0  \n",
       "3                           0                      0  \n",
       "4                           0                      0  \n",
       "...                       ...                    ...  \n",
       "48890                       1                      0  \n",
       "48891                       1                      0  \n",
       "48892                       0                      0  \n",
       "48893                       0                      1  \n",
       "48894                       1                      0  \n",
       "\n",
       "[48895 rows x 11 columns]"
      ]
     },
     "execution_count": 93,
     "metadata": {},
     "output_type": "execute_result"
    }
   ],
   "source": [
    "#Select all categorical variables\n",
    "df.select_dtypes(include=['bool','object','category'])\n",
    "\n",
    "df = pd.get_dummies(df , drop_first= True)\n",
    "df\n"
   ]
  },
  {
   "cell_type": "markdown",
   "metadata": {},
   "source": [
    "# Data splitting into x train and y train "
   ]
  },
  {
   "cell_type": "code",
   "execution_count": 94,
   "metadata": {},
   "outputs": [],
   "source": [
    "y = df['price'] # y_variable\n",
    "x = df.drop(['price'],axis =1) #y_variable\n",
    "X_train, X_test, Y_train, Y_test = train_test_split(x, y, test_size = 0.2, random_state = 0)"
   ]
  },
  {
   "cell_type": "markdown",
   "metadata": {},
   "source": [
    "### Missing data handling\n"
   ]
  },
  {
   "cell_type": "code",
   "execution_count": 95,
   "metadata": {},
   "outputs": [
    {
     "name": "stdout",
     "output_type": "stream",
     "text": [
      "minimum_nights                       0\n",
      "number_of_reviews                    0\n",
      "calculated_host_listings_count       0\n",
      "availability_365                     0\n",
      "neighbourhood_group_Brooklyn         0\n",
      "neighbourhood_group_Manhattan        0\n",
      "neighbourhood_group_Queens           0\n",
      "neighbourhood_group_Staten Island    0\n",
      "room_type_Private room               0\n",
      "room_type_Shared room                0\n",
      "dtype: int64\n",
      "minimum_nights                       0\n",
      "number_of_reviews                    0\n",
      "calculated_host_listings_count       0\n",
      "availability_365                     0\n",
      "neighbourhood_group_Brooklyn         0\n",
      "neighbourhood_group_Manhattan        0\n",
      "neighbourhood_group_Queens           0\n",
      "neighbourhood_group_Staten Island    0\n",
      "room_type_Private room               0\n",
      "room_type_Shared room                0\n",
      "dtype: int64\n",
      "0\n",
      "0\n"
     ]
    }
   ],
   "source": [
    "# Count number of nulls\n",
    "print(X_train.isna().sum())\n",
    "print(X_test.isna().sum())\n",
    "print(Y_train.isna().sum())\n",
    "print(Y_test.isna().sum())\n",
    "\n",
    "# Drop any y_train and y_test = NA\n",
    "\n"
   ]
  },
  {
   "cell_type": "code",
   "execution_count": 96,
   "metadata": {},
   "outputs": [],
   "source": [
    "# Case deletion\n",
    "\n",
    "#X_train = X_train.dropna()\n",
    "#X_test = X_test.dropna()"
   ]
  },
  {
   "cell_type": "markdown",
   "metadata": {},
   "source": [
    "### Outlier handling"
   ]
  },
  {
   "cell_type": "code",
   "execution_count": null,
   "metadata": {},
   "outputs": [],
   "source": []
  },
  {
   "cell_type": "code",
   "execution_count": 97,
   "metadata": {},
   "outputs": [
    {
     "data": {
      "text/plain": [
       "43813    225\n",
       "32734    649\n",
       "25276    300\n",
       "36084     26\n",
       "17736    125\n",
       "        ... \n",
       "8380     150\n",
       "44518    100\n",
       "25614    150\n",
       "13590    149\n",
       "22995    169\n",
       "Name: price, Length: 9779, dtype: int64"
      ]
     },
     "execution_count": 97,
     "metadata": {},
     "output_type": "execute_result"
    }
   ],
   "source": [
    "Y_test"
   ]
  },
  {
   "cell_type": "markdown",
   "metadata": {},
   "source": [
    "### Sampling (using SMOTE)"
   ]
  },
  {
   "cell_type": "code",
   "execution_count": 110,
   "metadata": {},
   "outputs": [
    {
     "ename": "ValueError",
     "evalue": "Expected n_neighbors <= n_samples,  but n_samples = 1, n_neighbors = 3",
     "output_type": "error",
     "traceback": [
      "\u001b[1;31m---------------------------------------------------------------------------\u001b[0m",
      "\u001b[1;31mValueError\u001b[0m                                Traceback (most recent call last)",
      "\u001b[1;32m<ipython-input-110-b7d8af851ec4>\u001b[0m in \u001b[0;36m<module>\u001b[1;34m\u001b[0m\n\u001b[0;32m      3\u001b[0m \u001b[1;31m# Not a classification problem\u001b[0m\u001b[1;33m\u001b[0m\u001b[1;33m\u001b[0m\u001b[1;33m\u001b[0m\u001b[0m\n\u001b[0;32m      4\u001b[0m \u001b[0moversample\u001b[0m \u001b[1;33m=\u001b[0m \u001b[0mSMOTE\u001b[0m\u001b[1;33m(\u001b[0m\u001b[0mk_neighbors\u001b[0m\u001b[1;33m=\u001b[0m \u001b[1;36m2\u001b[0m\u001b[1;33m)\u001b[0m\u001b[1;33m\u001b[0m\u001b[1;33m\u001b[0m\u001b[0m\n\u001b[1;32m----> 5\u001b[1;33m \u001b[0mX_train\u001b[0m\u001b[1;33m,\u001b[0m \u001b[0mY_train\u001b[0m \u001b[1;33m=\u001b[0m \u001b[0moversample\u001b[0m\u001b[1;33m.\u001b[0m\u001b[0mfit_resample\u001b[0m\u001b[1;33m(\u001b[0m\u001b[0mX_train\u001b[0m\u001b[1;33m,\u001b[0m \u001b[0mY_train\u001b[0m\u001b[1;33m)\u001b[0m\u001b[1;33m\u001b[0m\u001b[1;33m\u001b[0m\u001b[0m\n\u001b[0m",
      "\u001b[1;32mC:\\ProgramData\\Anaconda3\\lib\\site-packages\\imblearn\\base.py\u001b[0m in \u001b[0;36mfit_resample\u001b[1;34m(self, X, y)\u001b[0m\n\u001b[0;32m     81\u001b[0m         )\n\u001b[0;32m     82\u001b[0m \u001b[1;33m\u001b[0m\u001b[0m\n\u001b[1;32m---> 83\u001b[1;33m         \u001b[0moutput\u001b[0m \u001b[1;33m=\u001b[0m \u001b[0mself\u001b[0m\u001b[1;33m.\u001b[0m\u001b[0m_fit_resample\u001b[0m\u001b[1;33m(\u001b[0m\u001b[0mX\u001b[0m\u001b[1;33m,\u001b[0m \u001b[0my\u001b[0m\u001b[1;33m)\u001b[0m\u001b[1;33m\u001b[0m\u001b[1;33m\u001b[0m\u001b[0m\n\u001b[0m\u001b[0;32m     84\u001b[0m \u001b[1;33m\u001b[0m\u001b[0m\n\u001b[0;32m     85\u001b[0m         y_ = (label_binarize(output[1], np.unique(y))\n",
      "\u001b[1;32mC:\\ProgramData\\Anaconda3\\lib\\site-packages\\imblearn\\over_sampling\\_smote.py\u001b[0m in \u001b[0;36m_fit_resample\u001b[1;34m(self, X, y)\u001b[0m\n\u001b[0;32m    730\u001b[0m \u001b[1;33m\u001b[0m\u001b[0m\n\u001b[0;32m    731\u001b[0m             \u001b[0mself\u001b[0m\u001b[1;33m.\u001b[0m\u001b[0mnn_k_\u001b[0m\u001b[1;33m.\u001b[0m\u001b[0mfit\u001b[0m\u001b[1;33m(\u001b[0m\u001b[0mX_class\u001b[0m\u001b[1;33m)\u001b[0m\u001b[1;33m\u001b[0m\u001b[1;33m\u001b[0m\u001b[0m\n\u001b[1;32m--> 732\u001b[1;33m             \u001b[0mnns\u001b[0m \u001b[1;33m=\u001b[0m \u001b[0mself\u001b[0m\u001b[1;33m.\u001b[0m\u001b[0mnn_k_\u001b[0m\u001b[1;33m.\u001b[0m\u001b[0mkneighbors\u001b[0m\u001b[1;33m(\u001b[0m\u001b[0mX_class\u001b[0m\u001b[1;33m,\u001b[0m \u001b[0mreturn_distance\u001b[0m\u001b[1;33m=\u001b[0m\u001b[1;32mFalse\u001b[0m\u001b[1;33m)\u001b[0m\u001b[1;33m[\u001b[0m\u001b[1;33m:\u001b[0m\u001b[1;33m,\u001b[0m \u001b[1;36m1\u001b[0m\u001b[1;33m:\u001b[0m\u001b[1;33m]\u001b[0m\u001b[1;33m\u001b[0m\u001b[1;33m\u001b[0m\u001b[0m\n\u001b[0m\u001b[0;32m    733\u001b[0m             X_new, y_new = self._make_samples(\n\u001b[0;32m    734\u001b[0m                 \u001b[0mX_class\u001b[0m\u001b[1;33m,\u001b[0m \u001b[0my\u001b[0m\u001b[1;33m.\u001b[0m\u001b[0mdtype\u001b[0m\u001b[1;33m,\u001b[0m \u001b[0mclass_sample\u001b[0m\u001b[1;33m,\u001b[0m \u001b[0mX_class\u001b[0m\u001b[1;33m,\u001b[0m \u001b[0mnns\u001b[0m\u001b[1;33m,\u001b[0m \u001b[0mn_samples\u001b[0m\u001b[1;33m,\u001b[0m \u001b[1;36m1.0\u001b[0m\u001b[1;33m\u001b[0m\u001b[1;33m\u001b[0m\u001b[0m\n",
      "\u001b[1;32m~\\AppData\\Roaming\\Python\\Python37\\site-packages\\sklearn\\neighbors\\_base.py\u001b[0m in \u001b[0;36mkneighbors\u001b[1;34m(self, X, n_neighbors, return_distance)\u001b[0m\n\u001b[0;32m    617\u001b[0m                 \u001b[1;34m\"Expected n_neighbors <= n_samples, \"\u001b[0m\u001b[1;33m\u001b[0m\u001b[1;33m\u001b[0m\u001b[0m\n\u001b[0;32m    618\u001b[0m                 \u001b[1;34m\" but n_samples = %d, n_neighbors = %d\"\u001b[0m \u001b[1;33m%\u001b[0m\u001b[1;33m\u001b[0m\u001b[1;33m\u001b[0m\u001b[0m\n\u001b[1;32m--> 619\u001b[1;33m                 \u001b[1;33m(\u001b[0m\u001b[0mn_samples_fit\u001b[0m\u001b[1;33m,\u001b[0m \u001b[0mn_neighbors\u001b[0m\u001b[1;33m)\u001b[0m\u001b[1;33m\u001b[0m\u001b[1;33m\u001b[0m\u001b[0m\n\u001b[0m\u001b[0;32m    620\u001b[0m             )\n\u001b[0;32m    621\u001b[0m \u001b[1;33m\u001b[0m\u001b[0m\n",
      "\u001b[1;31mValueError\u001b[0m: Expected n_neighbors <= n_samples,  but n_samples = 1, n_neighbors = 3"
     ]
    }
   ],
   "source": [
    "# transform the dataset\n",
    "#SMOTE works with numeric variables only\n",
    "# Not a classification problem\n",
    "oversample = SMOTE(k_neighbors= 2)\n",
    "X_train, Y_train = oversample.fit_resample(X_train, Y_train)"
   ]
  },
  {
   "cell_type": "code",
   "execution_count": 26,
   "metadata": {},
   "outputs": [],
   "source": []
  },
  {
   "cell_type": "markdown",
   "metadata": {},
   "source": [
    "### Normalization / Standarization"
   ]
  },
  {
   "cell_type": "code",
   "execution_count": 107,
   "metadata": {},
   "outputs": [],
   "source": [
    "# Normalization"
   ]
  },
  {
   "cell_type": "code",
   "execution_count": 106,
   "metadata": {},
   "outputs": [],
   "source": [
    "# data normalization with sklearn\n",
    "from sklearn.preprocessing import MinMaxScaler\n",
    "\n",
    "# fit scaler on training data\n",
    "norm = MinMaxScaler().fit(X_train)\n",
    "\n",
    "# transform training data\n",
    "X_train_norm = norm.transform(X_train)\n",
    "\n",
    "# transform testing dataabs\n",
    "X_test_norm = norm.transform(X_test)"
   ]
  },
  {
   "cell_type": "markdown",
   "metadata": {},
   "source": [
    "# Feature Selection"
   ]
  },
  {
   "cell_type": "markdown",
   "metadata": {},
   "source": [
    "### Using Correlation and heatmap generation"
   ]
  },
  {
   "cell_type": "code",
   "execution_count": 143,
   "metadata": {},
   "outputs": [
    {
     "data": {
      "image/png": "[encoded data removed]",
      "text/plain": [
       "<Figure size 720x720 with 2 Axes>"
      ]
     },
     "metadata": {
      "image/png": {
       "height": 746,
       "width": 735
      },
      "needs_background": "light"
     },
     "output_type": "display_data"
    }
   ],
   "source": [
    "#Heatmap\n",
    "corr = df.corr()\n",
    "matrix = np.triu(df.corr())\n",
    "fig, ax = plt.subplots(figsize=(10,10))\n",
    "sns.heatmap(corr, annot=True , fmt='.1g', vmin=-1, vmax=1, center= 0,mask = matrix)\n",
    "plt.show()"
   ]
  },
  {
   "cell_type": "code",
   "execution_count": 145,
   "metadata": {},
   "outputs": [
    {
     "data": {
      "text/html": [
       "<style  type=\"text/css\" >\n",
       "#T_b54efe68_584c_11eb_b932_005056c00008row0_col0,#T_b54efe68_584c_11eb_b932_005056c00008row1_col1,#T_b54efe68_584c_11eb_b932_005056c00008row2_col2,#T_b54efe68_584c_11eb_b932_005056c00008row3_col3,#T_b54efe68_584c_11eb_b932_005056c00008row4_col4,#T_b54efe68_584c_11eb_b932_005056c00008row5_col5,#T_b54efe68_584c_11eb_b932_005056c00008row6_col6,#T_b54efe68_584c_11eb_b932_005056c00008row7_col7,#T_b54efe68_584c_11eb_b932_005056c00008row8_col8,#T_b54efe68_584c_11eb_b932_005056c00008row9_col9,#T_b54efe68_584c_11eb_b932_005056c00008row10_col10{\n",
       "            background-color:  #b40426;\n",
       "            color:  #f1f1f1;\n",
       "        }#T_b54efe68_584c_11eb_b932_005056c00008row0_col1,#T_b54efe68_584c_11eb_b932_005056c00008row3_col10,#T_b54efe68_584c_11eb_b932_005056c00008row5_col0,#T_b54efe68_584c_11eb_b932_005056c00008row6_col10{\n",
       "            background-color:  #5e7de7;\n",
       "            color:  #000000;\n",
       "        }#T_b54efe68_584c_11eb_b932_005056c00008row0_col2{\n",
       "            background-color:  #4358cb;\n",
       "            color:  #f1f1f1;\n",
       "        }#T_b54efe68_584c_11eb_b932_005056c00008row0_col3{\n",
       "            background-color:  #6e90f2;\n",
       "            color:  #000000;\n",
       "        }#T_b54efe68_584c_11eb_b932_005056c00008row0_col4,#T_b54efe68_584c_11eb_b932_005056c00008row10_col0{\n",
       "            background-color:  #6a8bef;\n",
       "            color:  #000000;\n",
       "        }#T_b54efe68_584c_11eb_b932_005056c00008row0_col5{\n",
       "            background-color:  #b6cefa;\n",
       "            color:  #000000;\n",
       "        }#T_b54efe68_584c_11eb_b932_005056c00008row0_col6{\n",
       "            background-color:  #e2dad5;\n",
       "            color:  #000000;\n",
       "        }#T_b54efe68_584c_11eb_b932_005056c00008row0_col7,#T_b54efe68_584c_11eb_b932_005056c00008row8_col0{\n",
       "            background-color:  #7597f6;\n",
       "            color:  #000000;\n",
       "        }#T_b54efe68_584c_11eb_b932_005056c00008row0_col8,#T_b54efe68_584c_11eb_b932_005056c00008row3_col8{\n",
       "            background-color:  #4c66d6;\n",
       "            color:  #000000;\n",
       "        }#T_b54efe68_584c_11eb_b932_005056c00008row0_col9,#T_b54efe68_584c_11eb_b932_005056c00008row1_col2,#T_b54efe68_584c_11eb_b932_005056c00008row2_col1,#T_b54efe68_584c_11eb_b932_005056c00008row5_col3,#T_b54efe68_584c_11eb_b932_005056c00008row5_col4,#T_b54efe68_584c_11eb_b932_005056c00008row5_col6,#T_b54efe68_584c_11eb_b932_005056c00008row6_col5,#T_b54efe68_584c_11eb_b932_005056c00008row6_col7,#T_b54efe68_584c_11eb_b932_005056c00008row6_col8,#T_b54efe68_584c_11eb_b932_005056c00008row9_col0,#T_b54efe68_584c_11eb_b932_005056c00008row9_col10{\n",
       "            background-color:  #3b4cc0;\n",
       "            color:  #f1f1f1;\n",
       "        }#T_b54efe68_584c_11eb_b932_005056c00008row0_col10{\n",
       "            background-color:  #516ddb;\n",
       "            color:  #000000;\n",
       "        }#T_b54efe68_584c_11eb_b932_005056c00008row1_col0{\n",
       "            background-color:  #85a8fc;\n",
       "            color:  #000000;\n",
       "        }#T_b54efe68_584c_11eb_b932_005056c00008row1_col3{\n",
       "            background-color:  #84a7fc;\n",
       "            color:  #000000;\n",
       "        }#T_b54efe68_584c_11eb_b932_005056c00008row1_col4,#T_b54efe68_584c_11eb_b932_005056c00008row2_col9,#T_b54efe68_584c_11eb_b932_005056c00008row4_col1{\n",
       "            background-color:  #7ea1fa;\n",
       "            color:  #000000;\n",
       "        }#T_b54efe68_584c_11eb_b932_005056c00008row1_col5{\n",
       "            background-color:  #c1d4f4;\n",
       "            color:  #000000;\n",
       "        }#T_b54efe68_584c_11eb_b932_005056c00008row1_col6{\n",
       "            background-color:  #d4dbe6;\n",
       "            color:  #000000;\n",
       "        }#T_b54efe68_584c_11eb_b932_005056c00008row1_col7,#T_b54efe68_584c_11eb_b932_005056c00008row8_col7{\n",
       "            background-color:  #82a6fb;\n",
       "            color:  #000000;\n",
       "        }#T_b54efe68_584c_11eb_b932_005056c00008row1_col8,#T_b54efe68_584c_11eb_b932_005056c00008row8_col1,#T_b54efe68_584c_11eb_b932_005056c00008row9_col4{\n",
       "            background-color:  #4e68d8;\n",
       "            color:  #000000;\n",
       "        }#T_b54efe68_584c_11eb_b932_005056c00008row1_col9,#T_b54efe68_584c_11eb_b932_005056c00008row6_col1{\n",
       "            background-color:  #6485ec;\n",
       "            color:  #000000;\n",
       "        }#T_b54efe68_584c_11eb_b932_005056c00008row1_col10{\n",
       "            background-color:  #6180e9;\n",
       "            color:  #000000;\n",
       "        }#T_b54efe68_584c_11eb_b932_005056c00008row2_col0,#T_b54efe68_584c_11eb_b932_005056c00008row7_col4{\n",
       "            background-color:  #6b8df0;\n",
       "            color:  #000000;\n",
       "        }#T_b54efe68_584c_11eb_b932_005056c00008row2_col3,#T_b54efe68_584c_11eb_b932_005056c00008row7_col1,#T_b54efe68_584c_11eb_b932_005056c00008row7_col8{\n",
       "            background-color:  #485fd1;\n",
       "            color:  #f1f1f1;\n",
       "        }#T_b54efe68_584c_11eb_b932_005056c00008row2_col4,#T_b54efe68_584c_11eb_b932_005056c00008row4_col2{\n",
       "            background-color:  #86a9fc;\n",
       "            color:  #000000;\n",
       "        }#T_b54efe68_584c_11eb_b932_005056c00008row2_col5{\n",
       "            background-color:  #cbd8ee;\n",
       "            color:  #000000;\n",
       "        }#T_b54efe68_584c_11eb_b932_005056c00008row2_col6{\n",
       "            background-color:  #c0d4f5;\n",
       "            color:  #000000;\n",
       "        }#T_b54efe68_584c_11eb_b932_005056c00008row2_col7{\n",
       "            background-color:  #94b6ff;\n",
       "            color:  #000000;\n",
       "        }#T_b54efe68_584c_11eb_b932_005056c00008row2_col8,#T_b54efe68_584c_11eb_b932_005056c00008row8_col2{\n",
       "            background-color:  #5572df;\n",
       "            color:  #000000;\n",
       "        }#T_b54efe68_584c_11eb_b932_005056c00008row2_col10{\n",
       "            background-color:  #5a78e4;\n",
       "            color:  #000000;\n",
       "        }#T_b54efe68_584c_11eb_b932_005056c00008row3_col0,#T_b54efe68_584c_11eb_b932_005056c00008row7_col6{\n",
       "            background-color:  #89acfd;\n",
       "            color:  #000000;\n",
       "        }#T_b54efe68_584c_11eb_b932_005056c00008row3_col1{\n",
       "            background-color:  #799cf8;\n",
       "            color:  #000000;\n",
       "        }#T_b54efe68_584c_11eb_b932_005056c00008row3_col2,#T_b54efe68_584c_11eb_b932_005056c00008row5_col8,#T_b54efe68_584c_11eb_b932_005056c00008row9_col1{\n",
       "            background-color:  #3c4ec2;\n",
       "            color:  #f1f1f1;\n",
       "        }#T_b54efe68_584c_11eb_b932_005056c00008row3_col4{\n",
       "            background-color:  #98b9ff;\n",
       "            color:  #000000;\n",
       "        }#T_b54efe68_584c_11eb_b932_005056c00008row3_col5{\n",
       "            background-color:  #b2ccfb;\n",
       "            color:  #000000;\n",
       "        }#T_b54efe68_584c_11eb_b932_005056c00008row3_col6{\n",
       "            background-color:  #e0dbd8;\n",
       "            color:  #000000;\n",
       "        }#T_b54efe68_584c_11eb_b932_005056c00008row3_col7{\n",
       "            background-color:  #81a4fb;\n",
       "            color:  #000000;\n",
       "        }#T_b54efe68_584c_11eb_b932_005056c00008row3_col9,#T_b54efe68_584c_11eb_b932_005056c00008row7_col2{\n",
       "            background-color:  #5b7ae5;\n",
       "            color:  #000000;\n",
       "        }#T_b54efe68_584c_11eb_b932_005056c00008row4_col0{\n",
       "            background-color:  #90b2fe;\n",
       "            color:  #000000;\n",
       "        }#T_b54efe68_584c_11eb_b932_005056c00008row4_col3,#T_b54efe68_584c_11eb_b932_005056c00008row4_col7{\n",
       "            background-color:  #a2c1ff;\n",
       "            color:  #000000;\n",
       "        }#T_b54efe68_584c_11eb_b932_005056c00008row4_col5,#T_b54efe68_584c_11eb_b932_005056c00008row8_col6{\n",
       "            background-color:  #bad0f8;\n",
       "            color:  #000000;\n",
       "        }#T_b54efe68_584c_11eb_b932_005056c00008row4_col6{\n",
       "            background-color:  #c7d7f0;\n",
       "            color:  #000000;\n",
       "        }#T_b54efe68_584c_11eb_b932_005056c00008row4_col8,#T_b54efe68_584c_11eb_b932_005056c00008row8_col4,#T_b54efe68_584c_11eb_b932_005056c00008row8_col10,#T_b54efe68_584c_11eb_b932_005056c00008row10_col4{\n",
       "            background-color:  #6282ea;\n",
       "            color:  #000000;\n",
       "        }#T_b54efe68_584c_11eb_b932_005056c00008row4_col9{\n",
       "            background-color:  #7699f6;\n",
       "            color:  #000000;\n",
       "        }#T_b54efe68_584c_11eb_b932_005056c00008row4_col10{\n",
       "            background-color:  #7396f5;\n",
       "            color:  #000000;\n",
       "        }#T_b54efe68_584c_11eb_b932_005056c00008row5_col1{\n",
       "            background-color:  #455cce;\n",
       "            color:  #f1f1f1;\n",
       "        }#T_b54efe68_584c_11eb_b932_005056c00008row5_col2,#T_b54efe68_584c_11eb_b932_005056c00008row9_col2{\n",
       "            background-color:  #5673e0;\n",
       "            color:  #000000;\n",
       "        }#T_b54efe68_584c_11eb_b932_005056c00008row5_col7,#T_b54efe68_584c_11eb_b932_005056c00008row9_col3{\n",
       "            background-color:  #3e51c5;\n",
       "            color:  #f1f1f1;\n",
       "        }#T_b54efe68_584c_11eb_b932_005056c00008row5_col9{\n",
       "            background-color:  #8fb1fe;\n",
       "            color:  #000000;\n",
       "        }#T_b54efe68_584c_11eb_b932_005056c00008row5_col10{\n",
       "            background-color:  #5d7ce6;\n",
       "            color:  #000000;\n",
       "        }#T_b54efe68_584c_11eb_b932_005056c00008row6_col0{\n",
       "            background-color:  #a7c5fe;\n",
       "            color:  #000000;\n",
       "        }#T_b54efe68_584c_11eb_b932_005056c00008row6_col2{\n",
       "            background-color:  #445acc;\n",
       "            color:  #f1f1f1;\n",
       "        }#T_b54efe68_584c_11eb_b932_005056c00008row6_col3{\n",
       "            background-color:  #8badfd;\n",
       "            color:  #000000;\n",
       "        }#T_b54efe68_584c_11eb_b932_005056c00008row6_col4,#T_b54efe68_584c_11eb_b932_005056c00008row6_col9,#T_b54efe68_584c_11eb_b932_005056c00008row10_col1{\n",
       "            background-color:  #4f69d9;\n",
       "            color:  #000000;\n",
       "        }#T_b54efe68_584c_11eb_b932_005056c00008row7_col0{\n",
       "            background-color:  #6384eb;\n",
       "            color:  #000000;\n",
       "        }#T_b54efe68_584c_11eb_b932_005056c00008row7_col3,#T_b54efe68_584c_11eb_b932_005056c00008row9_col8,#T_b54efe68_584c_11eb_b932_005056c00008row10_col9{\n",
       "            background-color:  #536edd;\n",
       "            color:  #000000;\n",
       "        }#T_b54efe68_584c_11eb_b932_005056c00008row7_col5{\n",
       "            background-color:  #8db0fe;\n",
       "            color:  #000000;\n",
       "        }#T_b54efe68_584c_11eb_b932_005056c00008row7_col9{\n",
       "            background-color:  #96b7ff;\n",
       "            color:  #000000;\n",
       "        }#T_b54efe68_584c_11eb_b932_005056c00008row7_col10{\n",
       "            background-color:  #688aef;\n",
       "            color:  #000000;\n",
       "        }#T_b54efe68_584c_11eb_b932_005056c00008row8_col3,#T_b54efe68_584c_11eb_b932_005056c00008row10_col3{\n",
       "            background-color:  #5977e3;\n",
       "            color:  #000000;\n",
       "        }#T_b54efe68_584c_11eb_b932_005056c00008row8_col5{\n",
       "            background-color:  #bbd1f8;\n",
       "            color:  #000000;\n",
       "        }#T_b54efe68_584c_11eb_b932_005056c00008row8_col9{\n",
       "            background-color:  #7b9ff9;\n",
       "            color:  #000000;\n",
       "        }#T_b54efe68_584c_11eb_b932_005056c00008row9_col5{\n",
       "            background-color:  #d5dbe5;\n",
       "            color:  #000000;\n",
       "        }#T_b54efe68_584c_11eb_b932_005056c00008row9_col6{\n",
       "            background-color:  #abc8fd;\n",
       "            color:  #000000;\n",
       "        }#T_b54efe68_584c_11eb_b932_005056c00008row9_col7{\n",
       "            background-color:  #a5c3fe;\n",
       "            color:  #000000;\n",
       "        }#T_b54efe68_584c_11eb_b932_005056c00008row10_col2{\n",
       "            background-color:  #4a63d3;\n",
       "            color:  #f1f1f1;\n",
       "        }#T_b54efe68_584c_11eb_b932_005056c00008row10_col5{\n",
       "            background-color:  #c5d6f2;\n",
       "            color:  #000000;\n",
       "        }#T_b54efe68_584c_11eb_b932_005056c00008row10_col6{\n",
       "            background-color:  #c6d6f1;\n",
       "            color:  #000000;\n",
       "        }#T_b54efe68_584c_11eb_b932_005056c00008row10_col7{\n",
       "            background-color:  #92b4fe;\n",
       "            color:  #000000;\n",
       "        }#T_b54efe68_584c_11eb_b932_005056c00008row10_col8{\n",
       "            background-color:  #506bda;\n",
       "            color:  #000000;\n",
       "        }</style><table id=\"T_b54efe68_584c_11eb_b932_005056c00008\" ><thead>    <tr>        <th class=\"blank level0\" ></th>        <th class=\"col_heading level0 col0\" >price</th>        <th class=\"col_heading level0 col1\" >minimum_nights</th>        <th class=\"col_heading level0 col2\" >number_of_reviews</th>        <th class=\"col_heading level0 col3\" >calculated_host_listings_count</th>        <th class=\"col_heading level0 col4\" >availability_365</th>        <th class=\"col_heading level0 col5\" >neighbourhood_group_Brooklyn</th>        <th class=\"col_heading level0 col6\" >neighbourhood_group_Manhattan</th>        <th class=\"col_heading level0 col7\" >neighbourhood_group_Queens</th>        <th class=\"col_heading level0 col8\" >neighbourhood_group_Staten Island</th>        <th class=\"col_heading level0 col9\" >room_type_Private room</th>        <th class=\"col_heading level0 col10\" >room_type_Shared room</th>    </tr></thead><tbody>\n",
       "                <tr>\n",
       "                        <th id=\"T_b54efe68_584c_11eb_b932_005056c00008level0_row0\" class=\"row_heading level0 row0\" >price</th>\n",
       "                        <td id=\"T_b54efe68_584c_11eb_b932_005056c00008row0_col0\" class=\"data row0 col0\" >1.000000</td>\n",
       "                        <td id=\"T_b54efe68_584c_11eb_b932_005056c00008row0_col1\" class=\"data row0 col1\" >0.042799</td>\n",
       "                        <td id=\"T_b54efe68_584c_11eb_b932_005056c00008row0_col2\" class=\"data row0 col2\" >-0.047954</td>\n",
       "                        <td id=\"T_b54efe68_584c_11eb_b932_005056c00008row0_col3\" class=\"data row0 col3\" >0.057472</td>\n",
       "                        <td id=\"T_b54efe68_584c_11eb_b932_005056c00008row0_col4\" class=\"data row0 col4\" >0.081829</td>\n",
       "                        <td id=\"T_b54efe68_584c_11eb_b932_005056c00008row0_col5\" class=\"data row0 col5\" >-0.098603</td>\n",
       "                        <td id=\"T_b54efe68_584c_11eb_b932_005056c00008row0_col6\" class=\"data row0 col6\" >0.163976</td>\n",
       "                        <td id=\"T_b54efe68_584c_11eb_b932_005056c00008row0_col7\" class=\"data row0 col7\" >-0.080205</td>\n",
       "                        <td id=\"T_b54efe68_584c_11eb_b932_005056c00008row0_col8\" class=\"data row0 col8\" >-0.013840</td>\n",
       "                        <td id=\"T_b54efe68_584c_11eb_b932_005056c00008row0_col9\" class=\"data row0 col9\" >-0.240246</td>\n",
       "                        <td id=\"T_b54efe68_584c_11eb_b932_005056c00008row0_col10\" class=\"data row0 col10\" >-0.053613</td>\n",
       "            </tr>\n",
       "            <tr>\n",
       "                        <th id=\"T_b54efe68_584c_11eb_b932_005056c00008level0_row1\" class=\"row_heading level0 row1\" >minimum_nights</th>\n",
       "                        <td id=\"T_b54efe68_584c_11eb_b932_005056c00008row1_col0\" class=\"data row1 col0\" >0.042799</td>\n",
       "                        <td id=\"T_b54efe68_584c_11eb_b932_005056c00008row1_col1\" class=\"data row1 col1\" >1.000000</td>\n",
       "                        <td id=\"T_b54efe68_584c_11eb_b932_005056c00008row1_col2\" class=\"data row1 col2\" >-0.080116</td>\n",
       "                        <td id=\"T_b54efe68_584c_11eb_b932_005056c00008row1_col3\" class=\"data row1 col3\" >0.127960</td>\n",
       "                        <td id=\"T_b54efe68_584c_11eb_b932_005056c00008row1_col4\" class=\"data row1 col4\" >0.144303</td>\n",
       "                        <td id=\"T_b54efe68_584c_11eb_b932_005056c00008row1_col5\" class=\"data row1 col5\" >-0.039658</td>\n",
       "                        <td id=\"T_b54efe68_584c_11eb_b932_005056c00008row1_col6\" class=\"data row1 col6\" >0.067362</td>\n",
       "                        <td id=\"T_b54efe68_584c_11eb_b932_005056c00008row1_col7\" class=\"data row1 col7\" >-0.032629</td>\n",
       "                        <td id=\"T_b54efe68_584c_11eb_b932_005056c00008row1_col8\" class=\"data row1 col8\" >-0.009400</td>\n",
       "                        <td id=\"T_b54efe68_584c_11eb_b932_005056c00008row1_col9\" class=\"data row1 col9\" >-0.073837</td>\n",
       "                        <td id=\"T_b54efe68_584c_11eb_b932_005056c00008row1_col10\" class=\"data row1 col10\" >-0.004218</td>\n",
       "            </tr>\n",
       "            <tr>\n",
       "                        <th id=\"T_b54efe68_584c_11eb_b932_005056c00008level0_row2\" class=\"row_heading level0 row2\" >number_of_reviews</th>\n",
       "                        <td id=\"T_b54efe68_584c_11eb_b932_005056c00008row2_col0\" class=\"data row2 col0\" >-0.047954</td>\n",
       "                        <td id=\"T_b54efe68_584c_11eb_b932_005056c00008row2_col1\" class=\"data row2 col1\" >-0.080116</td>\n",
       "                        <td id=\"T_b54efe68_584c_11eb_b932_005056c00008row2_col2\" class=\"data row2 col2\" >1.000000</td>\n",
       "                        <td id=\"T_b54efe68_584c_11eb_b932_005056c00008row2_col3\" class=\"data row2 col3\" >-0.072376</td>\n",
       "                        <td id=\"T_b54efe68_584c_11eb_b932_005056c00008row2_col4\" class=\"data row2 col4\" >0.172028</td>\n",
       "                        <td id=\"T_b54efe68_584c_11eb_b932_005056c00008row2_col5\" class=\"data row2 col5\" >0.017414</td>\n",
       "                        <td id=\"T_b54efe68_584c_11eb_b932_005056c00008row2_col6\" class=\"data row2 col6\" >-0.045820</td>\n",
       "                        <td id=\"T_b54efe68_584c_11eb_b932_005056c00008row2_col7\" class=\"data row2 col7\" >0.035967</td>\n",
       "                        <td id=\"T_b54efe68_584c_11eb_b932_005056c00008row2_col8\" class=\"data row2 col8\" >0.015088</td>\n",
       "                        <td id=\"T_b54efe68_584c_11eb_b932_005056c00008row2_col9\" class=\"data row2 col9\" >0.017253</td>\n",
       "                        <td id=\"T_b54efe68_584c_11eb_b932_005056c00008row2_col10\" class=\"data row2 col10\" >-0.023355</td>\n",
       "            </tr>\n",
       "            <tr>\n",
       "                        <th id=\"T_b54efe68_584c_11eb_b932_005056c00008level0_row3\" class=\"row_heading level0 row3\" >calculated_host_listings_count</th>\n",
       "                        <td id=\"T_b54efe68_584c_11eb_b932_005056c00008row3_col0\" class=\"data row3 col0\" >0.057472</td>\n",
       "                        <td id=\"T_b54efe68_584c_11eb_b932_005056c00008row3_col1\" class=\"data row3 col1\" >0.127960</td>\n",
       "                        <td id=\"T_b54efe68_584c_11eb_b932_005056c00008row3_col2\" class=\"data row3 col2\" >-0.072376</td>\n",
       "                        <td id=\"T_b54efe68_584c_11eb_b932_005056c00008row3_col3\" class=\"data row3 col3\" >1.000000</td>\n",
       "                        <td id=\"T_b54efe68_584c_11eb_b932_005056c00008row3_col4\" class=\"data row3 col4\" >0.225701</td>\n",
       "                        <td id=\"T_b54efe68_584c_11eb_b932_005056c00008row3_col5\" class=\"data row3 col5\" >-0.123234</td>\n",
       "                        <td id=\"T_b54efe68_584c_11eb_b932_005056c00008row3_col6\" class=\"data row3 col6\" >0.152842</td>\n",
       "                        <td id=\"T_b54efe68_584c_11eb_b932_005056c00008row3_col7\" class=\"data row3 col7\" >-0.033881</td>\n",
       "                        <td id=\"T_b54efe68_584c_11eb_b932_005056c00008row3_col8\" class=\"data row3 col8\" >-0.012838</td>\n",
       "                        <td id=\"T_b54efe68_584c_11eb_b932_005056c00008row3_col9\" class=\"data row3 col9\" >-0.108945</td>\n",
       "                        <td id=\"T_b54efe68_584c_11eb_b932_005056c00008row3_col10\" class=\"data row3 col10\" >-0.011737</td>\n",
       "            </tr>\n",
       "            <tr>\n",
       "                        <th id=\"T_b54efe68_584c_11eb_b932_005056c00008level0_row4\" class=\"row_heading level0 row4\" >availability_365</th>\n",
       "                        <td id=\"T_b54efe68_584c_11eb_b932_005056c00008row4_col0\" class=\"data row4 col0\" >0.081829</td>\n",
       "                        <td id=\"T_b54efe68_584c_11eb_b932_005056c00008row4_col1\" class=\"data row4 col1\" >0.144303</td>\n",
       "                        <td id=\"T_b54efe68_584c_11eb_b932_005056c00008row4_col2\" class=\"data row4 col2\" >0.172028</td>\n",
       "                        <td id=\"T_b54efe68_584c_11eb_b932_005056c00008row4_col3\" class=\"data row4 col3\" >0.225701</td>\n",
       "                        <td id=\"T_b54efe68_584c_11eb_b932_005056c00008row4_col4\" class=\"data row4 col4\" >1.000000</td>\n",
       "                        <td id=\"T_b54efe68_584c_11eb_b932_005056c00008row4_col5\" class=\"data row4 col5\" >-0.079671</td>\n",
       "                        <td id=\"T_b54efe68_584c_11eb_b932_005056c00008row4_col6\" class=\"data row4 col6\" >-0.005434</td>\n",
       "                        <td id=\"T_b54efe68_584c_11eb_b932_005056c00008row4_col7\" class=\"data row4 col7\" >0.087113</td>\n",
       "                        <td id=\"T_b54efe68_584c_11eb_b932_005056c00008row4_col8\" class=\"data row4 col8\" >0.057885</td>\n",
       "                        <td id=\"T_b54efe68_584c_11eb_b932_005056c00008row4_col9\" class=\"data row4 col9\" >-0.010986</td>\n",
       "                        <td id=\"T_b54efe68_584c_11eb_b932_005056c00008row4_col10\" class=\"data row4 col10\" >0.058294</td>\n",
       "            </tr>\n",
       "            <tr>\n",
       "                        <th id=\"T_b54efe68_584c_11eb_b932_005056c00008level0_row5\" class=\"row_heading level0 row5\" >neighbourhood_group_Brooklyn</th>\n",
       "                        <td id=\"T_b54efe68_584c_11eb_b932_005056c00008row5_col0\" class=\"data row5 col0\" >-0.098603</td>\n",
       "                        <td id=\"T_b54efe68_584c_11eb_b932_005056c00008row5_col1\" class=\"data row5 col1\" >-0.039658</td>\n",
       "                        <td id=\"T_b54efe68_584c_11eb_b932_005056c00008row5_col2\" class=\"data row5 col2\" >0.017414</td>\n",
       "                        <td id=\"T_b54efe68_584c_11eb_b932_005056c00008row5_col3\" class=\"data row5 col3\" >-0.123234</td>\n",
       "                        <td id=\"T_b54efe68_584c_11eb_b932_005056c00008row5_col4\" class=\"data row5 col4\" >-0.079671</td>\n",
       "                        <td id=\"T_b54efe68_584c_11eb_b932_005056c00008row5_col5\" class=\"data row5 col5\" >1.000000</td>\n",
       "                        <td id=\"T_b54efe68_584c_11eb_b932_005056c00008row5_col6\" class=\"data row5 col6\" >-0.745240</td>\n",
       "                        <td id=\"T_b54efe68_584c_11eb_b932_005056c00008row5_col7\" class=\"data row5 col7\" >-0.302527</td>\n",
       "                        <td id=\"T_b54efe68_584c_11eb_b932_005056c00008row5_col8\" class=\"data row5 col8\" >-0.073265</td>\n",
       "                        <td id=\"T_b54efe68_584c_11eb_b932_005056c00008row5_col9\" class=\"data row5 col9\" >0.079464</td>\n",
       "                        <td id=\"T_b54efe68_584c_11eb_b932_005056c00008row5_col10\" class=\"data row5 col10\" >-0.017467</td>\n",
       "            </tr>\n",
       "            <tr>\n",
       "                        <th id=\"T_b54efe68_584c_11eb_b932_005056c00008level0_row6\" class=\"row_heading level0 row6\" >neighbourhood_group_Manhattan</th>\n",
       "                        <td id=\"T_b54efe68_584c_11eb_b932_005056c00008row6_col0\" class=\"data row6 col0\" >0.163976</td>\n",
       "                        <td id=\"T_b54efe68_584c_11eb_b932_005056c00008row6_col1\" class=\"data row6 col1\" >0.067362</td>\n",
       "                        <td id=\"T_b54efe68_584c_11eb_b932_005056c00008row6_col2\" class=\"data row6 col2\" >-0.045820</td>\n",
       "                        <td id=\"T_b54efe68_584c_11eb_b932_005056c00008row6_col3\" class=\"data row6 col3\" >0.152842</td>\n",
       "                        <td id=\"T_b54efe68_584c_11eb_b932_005056c00008row6_col4\" class=\"data row6 col4\" >-0.005434</td>\n",
       "                        <td id=\"T_b54efe68_584c_11eb_b932_005056c00008row6_col5\" class=\"data row6 col5\" >-0.745240</td>\n",
       "                        <td id=\"T_b54efe68_584c_11eb_b932_005056c00008row6_col6\" class=\"data row6 col6\" >1.000000</td>\n",
       "                        <td id=\"T_b54efe68_584c_11eb_b932_005056c00008row6_col7\" class=\"data row6 col7\" >-0.322875</td>\n",
       "                        <td id=\"T_b54efe68_584c_11eb_b932_005056c00008row6_col8\" class=\"data row6 col8\" >-0.078193</td>\n",
       "                        <td id=\"T_b54efe68_584c_11eb_b932_005056c00008row6_col9\" class=\"data row6 col9\" >-0.157762</td>\n",
       "                        <td id=\"T_b54efe68_584c_11eb_b932_005056c00008row6_col10\" class=\"data row6 col10\" >-0.009169</td>\n",
       "            </tr>\n",
       "            <tr>\n",
       "                        <th id=\"T_b54efe68_584c_11eb_b932_005056c00008level0_row7\" class=\"row_heading level0 row7\" >neighbourhood_group_Queens</th>\n",
       "                        <td id=\"T_b54efe68_584c_11eb_b932_005056c00008row7_col0\" class=\"data row7 col0\" >-0.080205</td>\n",
       "                        <td id=\"T_b54efe68_584c_11eb_b932_005056c00008row7_col1\" class=\"data row7 col1\" >-0.032629</td>\n",
       "                        <td id=\"T_b54efe68_584c_11eb_b932_005056c00008row7_col2\" class=\"data row7 col2\" >0.035967</td>\n",
       "                        <td id=\"T_b54efe68_584c_11eb_b932_005056c00008row7_col3\" class=\"data row7 col3\" >-0.033881</td>\n",
       "                        <td id=\"T_b54efe68_584c_11eb_b932_005056c00008row7_col4\" class=\"data row7 col4\" >0.087113</td>\n",
       "                        <td id=\"T_b54efe68_584c_11eb_b932_005056c00008row7_col5\" class=\"data row7 col5\" >-0.302527</td>\n",
       "                        <td id=\"T_b54efe68_584c_11eb_b932_005056c00008row7_col6\" class=\"data row7 col6\" >-0.322875</td>\n",
       "                        <td id=\"T_b54efe68_584c_11eb_b932_005056c00008row7_col7\" class=\"data row7 col7\" >1.000000</td>\n",
       "                        <td id=\"T_b54efe68_584c_11eb_b932_005056c00008row7_col8\" class=\"data row7 col8\" >-0.031742</td>\n",
       "                        <td id=\"T_b54efe68_584c_11eb_b932_005056c00008row7_col9\" class=\"data row7 col9\" >0.100676</td>\n",
       "                        <td id=\"T_b54efe68_584c_11eb_b932_005056c00008row7_col10\" class=\"data row7 col10\" >0.026693</td>\n",
       "            </tr>\n",
       "            <tr>\n",
       "                        <th id=\"T_b54efe68_584c_11eb_b932_005056c00008level0_row8\" class=\"row_heading level0 row8\" >neighbourhood_group_Staten Island</th>\n",
       "                        <td id=\"T_b54efe68_584c_11eb_b932_005056c00008row8_col0\" class=\"data row8 col0\" >-0.013840</td>\n",
       "                        <td id=\"T_b54efe68_584c_11eb_b932_005056c00008row8_col1\" class=\"data row8 col1\" >-0.009400</td>\n",
       "                        <td id=\"T_b54efe68_584c_11eb_b932_005056c00008row8_col2\" class=\"data row8 col2\" >0.015088</td>\n",
       "                        <td id=\"T_b54efe68_584c_11eb_b932_005056c00008row8_col3\" class=\"data row8 col3\" >-0.012838</td>\n",
       "                        <td id=\"T_b54efe68_584c_11eb_b932_005056c00008row8_col4\" class=\"data row8 col4\" >0.057885</td>\n",
       "                        <td id=\"T_b54efe68_584c_11eb_b932_005056c00008row8_col5\" class=\"data row8 col5\" >-0.073265</td>\n",
       "                        <td id=\"T_b54efe68_584c_11eb_b932_005056c00008row8_col6\" class=\"data row8 col6\" >-0.078193</td>\n",
       "                        <td id=\"T_b54efe68_584c_11eb_b932_005056c00008row8_col7\" class=\"data row8 col7\" >-0.031742</td>\n",
       "                        <td id=\"T_b54efe68_584c_11eb_b932_005056c00008row8_col8\" class=\"data row8 col8\" >1.000000</td>\n",
       "                        <td id=\"T_b54efe68_584c_11eb_b932_005056c00008row8_col9\" class=\"data row8 col9\" >0.008345</td>\n",
       "                        <td id=\"T_b54efe68_584c_11eb_b932_005056c00008row8_col10\" class=\"data row8 col10\" >0.000233</td>\n",
       "            </tr>\n",
       "            <tr>\n",
       "                        <th id=\"T_b54efe68_584c_11eb_b932_005056c00008level0_row9\" class=\"row_heading level0 row9\" >room_type_Private room</th>\n",
       "                        <td id=\"T_b54efe68_584c_11eb_b932_005056c00008row9_col0\" class=\"data row9 col0\" >-0.240246</td>\n",
       "                        <td id=\"T_b54efe68_584c_11eb_b932_005056c00008row9_col1\" class=\"data row9 col1\" >-0.073837</td>\n",
       "                        <td id=\"T_b54efe68_584c_11eb_b932_005056c00008row9_col2\" class=\"data row9 col2\" >0.017253</td>\n",
       "                        <td id=\"T_b54efe68_584c_11eb_b932_005056c00008row9_col3\" class=\"data row9 col3\" >-0.108945</td>\n",
       "                        <td id=\"T_b54efe68_584c_11eb_b932_005056c00008row9_col4\" class=\"data row9 col4\" >-0.010986</td>\n",
       "                        <td id=\"T_b54efe68_584c_11eb_b932_005056c00008row9_col5\" class=\"data row9 col5\" >0.079464</td>\n",
       "                        <td id=\"T_b54efe68_584c_11eb_b932_005056c00008row9_col6\" class=\"data row9 col6\" >-0.157762</td>\n",
       "                        <td id=\"T_b54efe68_584c_11eb_b932_005056c00008row9_col7\" class=\"data row9 col7\" >0.100676</td>\n",
       "                        <td id=\"T_b54efe68_584c_11eb_b932_005056c00008row9_col8\" class=\"data row9 col8\" >0.008345</td>\n",
       "                        <td id=\"T_b54efe68_584c_11eb_b932_005056c00008row9_col9\" class=\"data row9 col9\" >1.000000</td>\n",
       "                        <td id=\"T_b54efe68_584c_11eb_b932_005056c00008row9_col10\" class=\"data row9 col10\" >-0.142899</td>\n",
       "            </tr>\n",
       "            <tr>\n",
       "                        <th id=\"T_b54efe68_584c_11eb_b932_005056c00008level0_row10\" class=\"row_heading level0 row10\" >room_type_Shared room</th>\n",
       "                        <td id=\"T_b54efe68_584c_11eb_b932_005056c00008row10_col0\" class=\"data row10 col0\" >-0.053613</td>\n",
       "                        <td id=\"T_b54efe68_584c_11eb_b932_005056c00008row10_col1\" class=\"data row10 col1\" >-0.004218</td>\n",
       "                        <td id=\"T_b54efe68_584c_11eb_b932_005056c00008row10_col2\" class=\"data row10 col2\" >-0.023355</td>\n",
       "                        <td id=\"T_b54efe68_584c_11eb_b932_005056c00008row10_col3\" class=\"data row10 col3\" >-0.011737</td>\n",
       "                        <td id=\"T_b54efe68_584c_11eb_b932_005056c00008row10_col4\" class=\"data row10 col4\" >0.058294</td>\n",
       "                        <td id=\"T_b54efe68_584c_11eb_b932_005056c00008row10_col5\" class=\"data row10 col5\" >-0.017467</td>\n",
       "                        <td id=\"T_b54efe68_584c_11eb_b932_005056c00008row10_col6\" class=\"data row10 col6\" >-0.009169</td>\n",
       "                        <td id=\"T_b54efe68_584c_11eb_b932_005056c00008row10_col7\" class=\"data row10 col7\" >0.026693</td>\n",
       "                        <td id=\"T_b54efe68_584c_11eb_b932_005056c00008row10_col8\" class=\"data row10 col8\" >0.000233</td>\n",
       "                        <td id=\"T_b54efe68_584c_11eb_b932_005056c00008row10_col9\" class=\"data row10 col9\" >-0.142899</td>\n",
       "                        <td id=\"T_b54efe68_584c_11eb_b932_005056c00008row10_col10\" class=\"data row10 col10\" >1.000000</td>\n",
       "            </tr>\n",
       "    </tbody></table>"
      ],
      "text/plain": [
       "<pandas.io.formats.style.Styler at 0x2421e715390>"
      ]
     },
     "execution_count": 145,
     "metadata": {},
     "output_type": "execute_result"
    }
   ],
   "source": [
    "# Another Style\n",
    "corr = df.corr()\n",
    "corr.style.background_gradient(cmap='coolwarm')"
   ]
  },
  {
   "cell_type": "markdown",
   "metadata": {},
   "source": [
    "### Wrapping Methods (Sequential feature selector) !\n",
    "\n"
   ]
  },
  {
   "cell_type": "code",
   "execution_count": 162,
   "metadata": {},
   "outputs": [],
   "source": [
    "# Foward selection\n",
    "from mlxtend.feature_selection import SequentialFeatureSelector as SFS\n",
    "from sklearn.linear_model import LinearRegression\n",
    "\n",
    "# Sequential Forward Selection(sfs)\n",
    "sfs = SFS(LinearRegression(),\n",
    "          k_features=1,\n",
    "          forward=True,\n",
    "          floating=False,\n",
    "          scoring = 'r2',\n",
    "          cv = 0)"
   ]
  },
  {
   "cell_type": "code",
   "execution_count": 163,
   "metadata": {},
   "outputs": [
    {
     "data": {
      "text/plain": [
       "('room_type_Private room',)"
      ]
     },
     "execution_count": 163,
     "metadata": {},
     "output_type": "execute_result"
    }
   ],
   "source": [
    "sfs.fit(X_train, Y_train)\n",
    "sfs.k_feature_names_  "
   ]
  },
  {
   "cell_type": "code",
   "execution_count": 165,
   "metadata": {},
   "outputs": [
    {
     "data": {
      "text/plain": [
       "('number_of_reviews',\n",
       " 'availability_365',\n",
       " 'neighbourhood_group_Brooklyn',\n",
       " 'neighbourhood_group_Manhattan',\n",
       " 'room_type_Private room',\n",
       " 'room_type_Shared room')"
      ]
     },
     "execution_count": 165,
     "metadata": {},
     "output_type": "execute_result"
    }
   ],
   "source": [
    "# Backward selection\n",
    "#Sequential backward selection(sbs)\n",
    "sbs = SFS(LinearRegression(),\n",
    "         k_features=6,\n",
    "         forward=False,\n",
    "         floating=False,\n",
    "         cv=0)\n",
    "sbs.fit(X_train, Y_train)\n",
    "sbs.k_feature_names_"
   ]
  },
  {
   "cell_type": "code",
   "execution_count": 174,
   "metadata": {},
   "outputs": [
    {
     "data": {
      "text/plain": [
       "SequentialFeatureSelector(cv=0, estimator=LinearRegression(), k_features=(3, 9))"
      ]
     },
     "execution_count": 174,
     "metadata": {},
     "output_type": "execute_result"
    }
   ],
   "source": [
    "#Both\n",
    "sfs1 = SFS(LinearRegression(),\n",
    "         k_features=(3,9),\n",
    "         forward=True,\n",
    "         floating=False,\n",
    "         cv=0)\n",
    "sfs1.fit(X_train, Y_train)"
   ]
  },
  {
   "cell_type": "code",
   "execution_count": 205,
   "metadata": {},
   "outputs": [
    {
     "data": {
      "image/png": "[encoded data removed]",
      "text/plain": [
       "<Figure size 432x288 with 1 Axes>"
      ]
     },
     "metadata": {
      "image/png": {
       "height": 277,
       "width": 398
      },
      "needs_background": "light"
     },
     "output_type": "display_data"
    }
   ],
   "source": [
    "from mlxtend.plotting import plot_sequential_feature_selection as plot_sfs\n",
    "import matplotlib.pyplot as plt\n",
    "fig1 = plot_sfs(sfs1.get_metric_dict(), kind='std_dev')\n",
    "plt.title('Sequential Forward Selection (w. StdErr)')\n",
    "plt.grid()\n",
    "plt.show()"
   ]
  },
  {
   "cell_type": "markdown",
   "metadata": {},
   "source": [
    "5 is the optimum number of features!"
   ]
  },
  {
   "cell_type": "code",
   "execution_count": 200,
   "metadata": {},
   "outputs": [
    {
     "data": {
      "text/plain": [
       "('number_of_reviews',\n",
       " 'availability_365',\n",
       " 'neighbourhood_group_Manhattan',\n",
       " 'room_type_Private room',\n",
       " 'room_type_Shared room')"
      ]
     },
     "execution_count": 200,
     "metadata": {},
     "output_type": "execute_result"
    }
   ],
   "source": [
    "sfs = SFS(LinearRegression(),\n",
    "          k_features=5,\n",
    "          forward=True,\n",
    "          floating=False,\n",
    "          scoring = 'r2',\n",
    "          cv = 0)\n",
    "\n",
    "sfs.fit(X_train, Y_train)\n",
    "sfs.k_feature_names_  \n"
   ]
  },
  {
   "cell_type": "code",
   "execution_count": null,
   "metadata": {},
   "outputs": [],
   "source": [
    "# Extra tree classifier"
   ]
  },
  {
   "cell_type": "markdown",
   "metadata": {},
   "source": [
    "Reduce X train, Y train, X test, Y test to number the optimal features!"
   ]
  },
  {
   "cell_type": "markdown",
   "metadata": {},
   "source": [
    "# Model with selected features"
   ]
  },
  {
   "cell_type": "markdown",
   "metadata": {},
   "source": [
    "### Linear Regression"
   ]
  },
  {
   "cell_type": "code",
   "execution_count": 211,
   "metadata": {},
   "outputs": [],
   "source": [
    "from sklearn import datasets\n",
    "from sklearn.model_selection import cross_val_score\n",
    "from sklearn.metrics import confusion_matrix\n",
    "\n",
    "def evaluate_model(X_train, y_train, model):\n",
    "    model.fit(X_train, y_train)\n",
    "    preds = model.predict(X_test)\n",
    "    #scores = cross_val_score(model, X_train, y_train, cv=3, scoring=\"accuracy\")\n",
    "    #diff = scores.mean() - model.score(X_test, y_test)\n",
    "    #SD = diff / scores.std()\n",
    "    print(preds)\n",
    "    #print(f\"Training Score:{model.score(X_train, y_train)}\")\n",
    "    #print(f\"Cross V Score: {scores.mean()} +/- {scores.std()}\")\n",
    "    #print(f\"Testing Score: {model.score(X_test, y_test)}\")\n",
    "    #print(f\"Cross & Test Diff: {diff}\")\n",
    "    #print(f\"Standard Deviations Away: {SD}\")\n",
    "    print(confusion_matrix(Y_test, preds))"
   ]
  },
  {
   "cell_type": "code",
   "execution_count": 212,
   "metadata": {},
   "outputs": [
    {
     "name": "stdout",
     "output_type": "stream",
     "text": [
      "[[234.57216428]\n",
      " [239.00832784]\n",
      " [176.85405866]\n",
      " ...\n",
      " [ 61.94238339]\n",
      " [ 64.51007513]\n",
      " [172.43870781]]\n"
     ]
    },
    {
     "ename": "ValueError",
     "evalue": "Classification metrics can't handle a mix of multiclass and continuous targets",
     "output_type": "error",
     "traceback": [
      "\u001b[1;31m---------------------------------------------------------------------------\u001b[0m",
      "\u001b[1;31mValueError\u001b[0m                                Traceback (most recent call last)",
      "\u001b[1;32m<ipython-input-212-1d9f7dee0b62>\u001b[0m in \u001b[0;36m<module>\u001b[1;34m\u001b[0m\n\u001b[0;32m      4\u001b[0m \u001b[0mlr\u001b[0m \u001b[1;33m=\u001b[0m \u001b[0mLinearRegression\u001b[0m\u001b[1;33m(\u001b[0m\u001b[1;33m)\u001b[0m\u001b[1;33m\u001b[0m\u001b[1;33m\u001b[0m\u001b[0m\n\u001b[0;32m      5\u001b[0m \u001b[1;33m\u001b[0m\u001b[0m\n\u001b[1;32m----> 6\u001b[1;33m \u001b[0mevaluate_model\u001b[0m\u001b[1;33m(\u001b[0m\u001b[0mX_train\u001b[0m\u001b[1;33m,\u001b[0m \u001b[0mY_train\u001b[0m\u001b[1;33m,\u001b[0m \u001b[0mlr\u001b[0m\u001b[1;33m)\u001b[0m\u001b[1;33m\u001b[0m\u001b[1;33m\u001b[0m\u001b[0m\n\u001b[0m",
      "\u001b[1;32m<ipython-input-211-bac264c01330>\u001b[0m in \u001b[0;36mevaluate_model\u001b[1;34m(X_train, y_train, model)\u001b[0m\n\u001b[0;32m     15\u001b[0m     \u001b[1;31m#print(f\"Cross & Test Diff: {diff}\")\u001b[0m\u001b[1;33m\u001b[0m\u001b[1;33m\u001b[0m\u001b[1;33m\u001b[0m\u001b[0m\n\u001b[0;32m     16\u001b[0m     \u001b[1;31m#print(f\"Standard Deviations Away: {SD}\")\u001b[0m\u001b[1;33m\u001b[0m\u001b[1;33m\u001b[0m\u001b[1;33m\u001b[0m\u001b[0m\n\u001b[1;32m---> 17\u001b[1;33m     \u001b[0mprint\u001b[0m\u001b[1;33m(\u001b[0m\u001b[0mconfusion_matrix\u001b[0m\u001b[1;33m(\u001b[0m\u001b[0mY_test\u001b[0m\u001b[1;33m,\u001b[0m \u001b[0mpreds\u001b[0m\u001b[1;33m)\u001b[0m\u001b[1;33m)\u001b[0m\u001b[1;33m\u001b[0m\u001b[1;33m\u001b[0m\u001b[0m\n\u001b[0m",
      "\u001b[1;32m~\\AppData\\Roaming\\Python\\Python37\\site-packages\\sklearn\\utils\\validation.py\u001b[0m in \u001b[0;36minner_f\u001b[1;34m(*args, **kwargs)\u001b[0m\n\u001b[0;32m     70\u001b[0m                           FutureWarning)\n\u001b[0;32m     71\u001b[0m         \u001b[0mkwargs\u001b[0m\u001b[1;33m.\u001b[0m\u001b[0mupdate\u001b[0m\u001b[1;33m(\u001b[0m\u001b[1;33m{\u001b[0m\u001b[0mk\u001b[0m\u001b[1;33m:\u001b[0m \u001b[0marg\u001b[0m \u001b[1;32mfor\u001b[0m \u001b[0mk\u001b[0m\u001b[1;33m,\u001b[0m \u001b[0marg\u001b[0m \u001b[1;32min\u001b[0m \u001b[0mzip\u001b[0m\u001b[1;33m(\u001b[0m\u001b[0msig\u001b[0m\u001b[1;33m.\u001b[0m\u001b[0mparameters\u001b[0m\u001b[1;33m,\u001b[0m \u001b[0margs\u001b[0m\u001b[1;33m)\u001b[0m\u001b[1;33m}\u001b[0m\u001b[1;33m)\u001b[0m\u001b[1;33m\u001b[0m\u001b[1;33m\u001b[0m\u001b[0m\n\u001b[1;32m---> 72\u001b[1;33m         \u001b[1;32mreturn\u001b[0m \u001b[0mf\u001b[0m\u001b[1;33m(\u001b[0m\u001b[1;33m**\u001b[0m\u001b[0mkwargs\u001b[0m\u001b[1;33m)\u001b[0m\u001b[1;33m\u001b[0m\u001b[1;33m\u001b[0m\u001b[0m\n\u001b[0m\u001b[0;32m     73\u001b[0m     \u001b[1;32mreturn\u001b[0m \u001b[0minner_f\u001b[0m\u001b[1;33m\u001b[0m\u001b[1;33m\u001b[0m\u001b[0m\n\u001b[0;32m     74\u001b[0m \u001b[1;33m\u001b[0m\u001b[0m\n",
      "\u001b[1;32m~\\AppData\\Roaming\\Python\\Python37\\site-packages\\sklearn\\metrics\\_classification.py\u001b[0m in \u001b[0;36mconfusion_matrix\u001b[1;34m(y_true, y_pred, labels, sample_weight, normalize)\u001b[0m\n\u001b[0;32m    274\u001b[0m \u001b[1;33m\u001b[0m\u001b[0m\n\u001b[0;32m    275\u001b[0m     \"\"\"\n\u001b[1;32m--> 276\u001b[1;33m     \u001b[0my_type\u001b[0m\u001b[1;33m,\u001b[0m \u001b[0my_true\u001b[0m\u001b[1;33m,\u001b[0m \u001b[0my_pred\u001b[0m \u001b[1;33m=\u001b[0m \u001b[0m_check_targets\u001b[0m\u001b[1;33m(\u001b[0m\u001b[0my_true\u001b[0m\u001b[1;33m,\u001b[0m \u001b[0my_pred\u001b[0m\u001b[1;33m)\u001b[0m\u001b[1;33m\u001b[0m\u001b[1;33m\u001b[0m\u001b[0m\n\u001b[0m\u001b[0;32m    277\u001b[0m     \u001b[1;32mif\u001b[0m \u001b[0my_type\u001b[0m \u001b[1;32mnot\u001b[0m \u001b[1;32min\u001b[0m \u001b[1;33m(\u001b[0m\u001b[1;34m\"binary\"\u001b[0m\u001b[1;33m,\u001b[0m \u001b[1;34m\"multiclass\"\u001b[0m\u001b[1;33m)\u001b[0m\u001b[1;33m:\u001b[0m\u001b[1;33m\u001b[0m\u001b[1;33m\u001b[0m\u001b[0m\n\u001b[0;32m    278\u001b[0m         \u001b[1;32mraise\u001b[0m \u001b[0mValueError\u001b[0m\u001b[1;33m(\u001b[0m\u001b[1;34m\"%s is not supported\"\u001b[0m \u001b[1;33m%\u001b[0m \u001b[0my_type\u001b[0m\u001b[1;33m)\u001b[0m\u001b[1;33m\u001b[0m\u001b[1;33m\u001b[0m\u001b[0m\n",
      "\u001b[1;32m~\\AppData\\Roaming\\Python\\Python37\\site-packages\\sklearn\\metrics\\_classification.py\u001b[0m in \u001b[0;36m_check_targets\u001b[1;34m(y_true, y_pred)\u001b[0m\n\u001b[0;32m     89\u001b[0m     \u001b[1;32mif\u001b[0m \u001b[0mlen\u001b[0m\u001b[1;33m(\u001b[0m\u001b[0my_type\u001b[0m\u001b[1;33m)\u001b[0m \u001b[1;33m>\u001b[0m \u001b[1;36m1\u001b[0m\u001b[1;33m:\u001b[0m\u001b[1;33m\u001b[0m\u001b[1;33m\u001b[0m\u001b[0m\n\u001b[0;32m     90\u001b[0m         raise ValueError(\"Classification metrics can't handle a mix of {0} \"\n\u001b[1;32m---> 91\u001b[1;33m                          \"and {1} targets\".format(type_true, type_pred))\n\u001b[0m\u001b[0;32m     92\u001b[0m \u001b[1;33m\u001b[0m\u001b[0m\n\u001b[0;32m     93\u001b[0m     \u001b[1;31m# We can't have more than one value on y_type => The set is no more needed\u001b[0m\u001b[1;33m\u001b[0m\u001b[1;33m\u001b[0m\u001b[1;33m\u001b[0m\u001b[0m\n",
      "\u001b[1;31mValueError\u001b[0m: Classification metrics can't handle a mix of multiclass and continuous targets"
     ]
    }
   ],
   "source": [
    "from sklearn.model_selection import train_test_split\n",
    "from sklearn.linear_model import LogisticRegression\n",
    "#X_train, X_test, y_train, y_test = train_test_split(X, y, stratify=y, random_state=0)\n",
    "lr = LinearRegression()\n",
    "\n",
    "evaluate_model(X_train, Y_train, lr)"
   ]
  },
  {
   "cell_type": "markdown",
   "metadata": {},
   "source": [
    "### Classification Model"
   ]
  },
  {
   "cell_type": "markdown",
   "metadata": {},
   "source": [
    "Logistic Regression"
   ]
  },
  {
   "cell_type": "markdown",
   "metadata": {},
   "source": [
    "XGBoosting"
   ]
  },
  {
   "cell_type": "markdown",
   "metadata": {},
   "source": [
    "Random forest"
   ]
  },
  {
   "cell_type": "markdown",
   "metadata": {},
   "source": [
    "### Clustering model"
   ]
  },
  {
   "cell_type": "markdown",
   "metadata": {},
   "source": [
    "Kmeans"
   ]
  },
  {
   "cell_type": "markdown",
   "metadata": {},
   "source": [
    "DBSCSAN"
   ]
  },
  {
   "cell_type": "markdown",
   "metadata": {},
   "source": [
    "# Hyperparameter Optimaztion"
   ]
  },
  {
   "cell_type": "code",
   "execution_count": null,
   "metadata": {},
   "outputs": [],
   "source": []
  },
  {
   "cell_type": "markdown",
   "metadata": {},
   "source": [
    "# Model results"
   ]
  },
  {
   "cell_type": "code",
   "execution_count": 206,
   "metadata": {},
   "outputs": [
    {
     "ename": "NameError",
     "evalue": "name 'preds' is not defined",
     "output_type": "error",
     "traceback": [
      "\u001b[1;31m---------------------------------------------------------------------------\u001b[0m",
      "\u001b[1;31mNameError\u001b[0m                                 Traceback (most recent call last)",
      "\u001b[1;32m<ipython-input-206-cd4e1ae71668>\u001b[0m in \u001b[0;36m<module>\u001b[1;34m\u001b[0m\n\u001b[0;32m      1\u001b[0m \u001b[1;31m# Confusion Matrix\u001b[0m\u001b[1;33m\u001b[0m\u001b[1;33m\u001b[0m\u001b[1;33m\u001b[0m\u001b[0m\n\u001b[0;32m      2\u001b[0m \u001b[1;32mfrom\u001b[0m \u001b[0msklearn\u001b[0m\u001b[1;33m.\u001b[0m\u001b[0mmetrics\u001b[0m \u001b[1;32mimport\u001b[0m \u001b[0mconfusion_matrix\u001b[0m\u001b[1;33m\u001b[0m\u001b[1;33m\u001b[0m\u001b[0m\n\u001b[1;32m----> 3\u001b[1;33m \u001b[0mconfusion_matrix\u001b[0m\u001b[1;33m(\u001b[0m\u001b[0mY_test\u001b[0m\u001b[1;33m,\u001b[0m\u001b[0mpreds\u001b[0m\u001b[1;33m)\u001b[0m\u001b[1;33m\u001b[0m\u001b[1;33m\u001b[0m\u001b[0m\n\u001b[0m",
      "\u001b[1;31mNameError\u001b[0m: name 'preds' is not defined"
     ]
    }
   ],
   "source": [
    "# Confusion Matrix\n",
    "from sklearn.metrics import confusion_matrix\n",
    "confusion_matrix(Y_test,preds)\n"
   ]
  },
  {
   "cell_type": "code",
   "execution_count": null,
   "metadata": {},
   "outputs": [],
   "source": [
    "# ROC / AUC"
   ]
  },
  {
   "cell_type": "code",
   "execution_count": 3,
   "metadata": {},
   "outputs": [],
   "source": [
    "# Costs involved"
   ]
  },
  {
   "cell_type": "code",
   "execution_count": null,
   "metadata": {},
   "outputs": [],
   "source": [
    "# Visualize model results"
   ]
  }
 ],
 "metadata": {
  "kernelspec": {
   "display_name": "Python 3",
   "language": "python",
   "name": "python3"
  },
  "language_info": {
   "codemirror_mode": {
    "name": "ipython",
    "version": 3
   },
   "file_extension": ".py",
   "mimetype": "text/x-python",
   "name": "python",
   "nbconvert_exporter": "python",
   "pygments_lexer": "ipython3",
   "version": "3.7.3"
  }
 },
 "nbformat": 4,
 "nbformat_minor": 2
}
